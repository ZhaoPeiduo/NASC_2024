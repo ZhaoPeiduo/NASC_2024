{
 "cells": [
  {
   "cell_type": "code",
   "execution_count": 1,
   "metadata": {},
   "outputs": [
    {
     "name": "stderr",
     "output_type": "stream",
     "text": [
      "c:\\Users\\Andrew\\envs\\nasc2024\\lib\\site-packages\\tqdm\\auto.py:21: TqdmWarning: IProgress not found. Please update jupyter and ipywidgets. See https://ipywidgets.readthedocs.io/en/stable/user_install.html\n",
      "  from .autonotebook import tqdm as notebook_tqdm\n",
      "Loading checkpoint shards: 100%|██████████| 3/3 [00:15<00:00,  5.26s/it]\n",
      "WARNING:root:Some parameters are on the meta device device because they were offloaded to the cpu.\n"
     ]
    },
    {
     "data": {
      "text/plain": [
       "LlamaForCausalLM(\n",
       "  (model): LlamaModel(\n",
       "    (embed_tokens): Embedding(44581, 5120, padding_idx=2)\n",
       "    (layers): ModuleList(\n",
       "      (0-39): 40 x LlamaDecoderLayer(\n",
       "        (self_attn): LlamaSdpaAttention(\n",
       "          (q_proj): Linear(in_features=5120, out_features=5120, bias=False)\n",
       "          (k_proj): Linear(in_features=5120, out_features=5120, bias=False)\n",
       "          (v_proj): Linear(in_features=5120, out_features=5120, bias=False)\n",
       "          (o_proj): Linear(in_features=5120, out_features=5120, bias=False)\n",
       "          (rotary_emb): LlamaRotaryEmbedding()\n",
       "        )\n",
       "        (mlp): LlamaMLP(\n",
       "          (gate_proj): Linear(in_features=5120, out_features=13824, bias=False)\n",
       "          (up_proj): Linear(in_features=5120, out_features=13824, bias=False)\n",
       "          (down_proj): Linear(in_features=13824, out_features=5120, bias=False)\n",
       "          (act_fn): SiLU()\n",
       "        )\n",
       "        (input_layernorm): LlamaRMSNorm()\n",
       "        (post_attention_layernorm): LlamaRMSNorm()\n",
       "      )\n",
       "    )\n",
       "    (norm): LlamaRMSNorm()\n",
       "  )\n",
       "  (lm_head): Linear(in_features=5120, out_features=44581, bias=False)\n",
       ")"
      ]
     },
     "execution_count": 1,
     "metadata": {},
     "output_type": "execute_result"
    }
   ],
   "source": [
    "import torch\n",
    "from transformers import AutoModelForCausalLM, AutoTokenizer\n",
    "\n",
    "model_name = \"elyza/ELYZA-japanese-Llama-2-13b-fast\"\n",
    "\n",
    "tokenizer = AutoTokenizer.from_pretrained(model_name)\n",
    "model = AutoModelForCausalLM.from_pretrained(\n",
    "    model_name,\n",
    "    torch_dtype=torch.float16,\n",
    "    use_cache=True,\n",
    "    device_map=\"auto\",\n",
    "    low_cpu_mem_usage=True,\n",
    ")\n",
    "model.eval()\n"
   ]
  },
  {
   "cell_type": "code",
   "execution_count": 5,
   "metadata": {},
   "outputs": [
    {
     "name": "stdout",
     "output_type": "stream",
     "text": [
      "あなたが因っているように見えたのでちょっと(アドバイスするまでです/アドバイスしたまでです/アドバイスするに当たりません)。\n",
      "(私は) あなたがそれを行うように望んでいるかどうか分からないが、あなたがより多くの自由と制御を得るために、 あなたのコードをより良いものにしたいなら、私はそれをお勧めする。\n",
      "私はあなたがそれを行うことに対して何の問題も感じない。\n",
      "私は単にそれを提案しただけだ。\n",
      "(私が) あなたがそれを行うことに対して何か問題があるならば、私はそれをあなたに勧めない。\n",
      "あなたは、あなたがそれを行うかどうか、またはあなたがそれを行うかどうかに何か問題があるかどうか、 あなたがそれを行うかどうか、またはあなたがそれを行うかどうかに何か問題があるかどうか、 あなたがそれを行うかどうか、またはあなたがそれを行うかどうかに何か問題があるかどうか、 あなたがそれを行うかどうか、またはあなたがそれを行うかどうかに何か問題があるかどうか、 あなたがそれを行うかどうか、またはあなたがそれを行うかどうかに何か問題があるかどうか、 あなたがそれを行うかどうか、またはあなたがそれを行うかどうかに何か問題があるかどうか、 あなたがそれを行うかどうか、またはあなたがそれを行うかどうかに何か問題があるかどうか、 あなたがそれを行うかどうか、またはあなたがそれを行うかどうかに何か問題があるかどうか、 あなたがそれを行うかどうか、またはあなたがそれを行うかどうかに何か問題があるかどうか、 あなたがそれを行うかどうか、またはあなたがそれを行うかどうかに何か問題があるかどうか\n"
     ]
    }
   ],
   "source": [
    "text = \"あなたが因っているように見えたのでちょっと(アドバイスするまでです/アドバイスしたまでです/アドバイスするに当たりません)\"\n",
    "token_ids = tokenizer.encode(text, add_special_tokens=False, return_tensors=\"pt\")\n",
    "\n",
    "with torch.no_grad():\n",
    "    output_ids = model.generate(\n",
    "        token_ids.to(model.device),\n",
    "        max_new_tokens=256,\n",
    "        pad_token_id=tokenizer.pad_token_id,\n",
    "        eos_token_id=tokenizer.eos_token_id,\n",
    "    )\n",
    "output = tokenizer.decode(output_ids.tolist()[0], skip_special_tokens=True)\n",
    "print(output)"
   ]
  }
 ],
 "metadata": {
  "kernelspec": {
   "display_name": "blip2",
   "language": "python",
   "name": "python3"
  },
  "language_info": {
   "codemirror_mode": {
    "name": "ipython",
    "version": 3
   },
   "file_extension": ".py",
   "mimetype": "text/x-python",
   "name": "python",
   "nbconvert_exporter": "python",
   "pygments_lexer": "ipython3",
   "version": "3.8.10"
  }
 },
 "nbformat": 4,
 "nbformat_minor": 2
}
