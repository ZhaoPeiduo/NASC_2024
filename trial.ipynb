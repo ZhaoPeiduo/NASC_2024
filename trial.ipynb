{
 "cells": [
  {
   "cell_type": "code",
   "execution_count": 6,
   "metadata": {},
   "outputs": [
    {
     "name": "stderr",
     "output_type": "stream",
     "text": [
      "Loading checkpoint shards: 100%|██████████| 3/3 [00:05<00:00,  1.86s/it]\n"
     ]
    },
    {
     "ename": "RuntimeError",
     "evalue": "CUDA error: an illegal memory access was encountered\nCUDA kernel errors might be asynchronously reported at some other API call, so the stacktrace below might be incorrect.\nFor debugging consider passing CUDA_LAUNCH_BLOCKING=1.\nCompile with `TORCH_USE_CUDA_DSA` to enable device-side assertions.\n",
     "output_type": "error",
     "traceback": [
      "\u001b[1;31m---------------------------------------------------------------------------\u001b[0m",
      "\u001b[1;31mRuntimeError\u001b[0m                              Traceback (most recent call last)",
      "Cell \u001b[1;32mIn[6], line 12\u001b[0m\n\u001b[0;32m      9\u001b[0m model\u001b[38;5;241m.\u001b[39meval()\n\u001b[0;32m     11\u001b[0m \u001b[38;5;28;01mif\u001b[39;00m torch\u001b[38;5;241m.\u001b[39mcuda\u001b[38;5;241m.\u001b[39mis_available():\n\u001b[1;32m---> 12\u001b[0m     model \u001b[38;5;241m=\u001b[39m \u001b[43mmodel\u001b[49m\u001b[38;5;241;43m.\u001b[39;49m\u001b[43mto\u001b[49m\u001b[43m(\u001b[49m\u001b[38;5;124;43m\"\u001b[39;49m\u001b[38;5;124;43mcuda\u001b[39;49m\u001b[38;5;124;43m\"\u001b[39;49m\u001b[43m)\u001b[49m\n\u001b[0;32m     14\u001b[0m \u001b[38;5;28;01mdef\u001b[39;00m \u001b[38;5;21mbuild_prompt\u001b[39m(user_query, inputs\u001b[38;5;241m=\u001b[39m\u001b[38;5;124m\"\u001b[39m\u001b[38;5;124m\"\u001b[39m, sep\u001b[38;5;241m=\u001b[39m\u001b[38;5;124m\"\u001b[39m\u001b[38;5;130;01m\\n\u001b[39;00m\u001b[38;5;130;01m\\n\u001b[39;00m\u001b[38;5;124m### \u001b[39m\u001b[38;5;124m\"\u001b[39m):\n\u001b[0;32m     15\u001b[0m     \u001b[38;5;66;03m# sys_msg = \"あなたは国語教師です。以下の問題を考え、正しい選択肢を説明してください。\"\u001b[39;00m\n\u001b[0;32m     16\u001b[0m     sys_msg \u001b[38;5;241m=\u001b[39m \u001b[38;5;124m\"\u001b[39m\u001b[38;5;124m以下は、タスクを説明する指示と、文脈のある入力の組み合わせです。要求を適切に満たす応答を書きなさい。\u001b[39m\u001b[38;5;124m\"\u001b[39m\n",
      "File \u001b[1;32mc:\\Users\\Andrew\\envs\\nasc2024\\lib\\site-packages\\transformers\\modeling_utils.py:2460\u001b[0m, in \u001b[0;36mPreTrainedModel.to\u001b[1;34m(self, *args, **kwargs)\u001b[0m\n\u001b[0;32m   2455\u001b[0m     \u001b[38;5;28;01mif\u001b[39;00m dtype_present_in_args:\n\u001b[0;32m   2456\u001b[0m         \u001b[38;5;28;01mraise\u001b[39;00m \u001b[38;5;167;01mValueError\u001b[39;00m(\n\u001b[0;32m   2457\u001b[0m             \u001b[38;5;124m\"\u001b[39m\u001b[38;5;124mYou cannot cast a GPTQ model in a new `dtype`. Make sure to load the model using `from_pretrained` using the desired\u001b[39m\u001b[38;5;124m\"\u001b[39m\n\u001b[0;32m   2458\u001b[0m             \u001b[38;5;124m\"\u001b[39m\u001b[38;5;124m `dtype` by passing the correct `torch_dtype` argument.\u001b[39m\u001b[38;5;124m\"\u001b[39m\n\u001b[0;32m   2459\u001b[0m         )\n\u001b[1;32m-> 2460\u001b[0m \u001b[38;5;28;01mreturn\u001b[39;00m \u001b[38;5;28;43msuper\u001b[39;49m\u001b[43m(\u001b[49m\u001b[43m)\u001b[49m\u001b[38;5;241;43m.\u001b[39;49m\u001b[43mto\u001b[49m\u001b[43m(\u001b[49m\u001b[38;5;241;43m*\u001b[39;49m\u001b[43margs\u001b[49m\u001b[43m,\u001b[49m\u001b[43m \u001b[49m\u001b[38;5;241;43m*\u001b[39;49m\u001b[38;5;241;43m*\u001b[39;49m\u001b[43mkwargs\u001b[49m\u001b[43m)\u001b[49m\n",
      "File \u001b[1;32mc:\\Users\\Andrew\\envs\\nasc2024\\lib\\site-packages\\torch\\nn\\modules\\module.py:1160\u001b[0m, in \u001b[0;36mModule.to\u001b[1;34m(self, *args, **kwargs)\u001b[0m\n\u001b[0;32m   1156\u001b[0m         \u001b[38;5;28;01mreturn\u001b[39;00m t\u001b[38;5;241m.\u001b[39mto(device, dtype \u001b[38;5;28;01mif\u001b[39;00m t\u001b[38;5;241m.\u001b[39mis_floating_point() \u001b[38;5;129;01mor\u001b[39;00m t\u001b[38;5;241m.\u001b[39mis_complex() \u001b[38;5;28;01melse\u001b[39;00m \u001b[38;5;28;01mNone\u001b[39;00m,\n\u001b[0;32m   1157\u001b[0m                     non_blocking, memory_format\u001b[38;5;241m=\u001b[39mconvert_to_format)\n\u001b[0;32m   1158\u001b[0m     \u001b[38;5;28;01mreturn\u001b[39;00m t\u001b[38;5;241m.\u001b[39mto(device, dtype \u001b[38;5;28;01mif\u001b[39;00m t\u001b[38;5;241m.\u001b[39mis_floating_point() \u001b[38;5;129;01mor\u001b[39;00m t\u001b[38;5;241m.\u001b[39mis_complex() \u001b[38;5;28;01melse\u001b[39;00m \u001b[38;5;28;01mNone\u001b[39;00m, non_blocking)\n\u001b[1;32m-> 1160\u001b[0m \u001b[38;5;28;01mreturn\u001b[39;00m \u001b[38;5;28;43mself\u001b[39;49m\u001b[38;5;241;43m.\u001b[39;49m\u001b[43m_apply\u001b[49m\u001b[43m(\u001b[49m\u001b[43mconvert\u001b[49m\u001b[43m)\u001b[49m\n",
      "File \u001b[1;32mc:\\Users\\Andrew\\envs\\nasc2024\\lib\\site-packages\\torch\\nn\\modules\\module.py:810\u001b[0m, in \u001b[0;36mModule._apply\u001b[1;34m(self, fn, recurse)\u001b[0m\n\u001b[0;32m    808\u001b[0m \u001b[38;5;28;01mif\u001b[39;00m recurse:\n\u001b[0;32m    809\u001b[0m     \u001b[38;5;28;01mfor\u001b[39;00m module \u001b[38;5;129;01min\u001b[39;00m \u001b[38;5;28mself\u001b[39m\u001b[38;5;241m.\u001b[39mchildren():\n\u001b[1;32m--> 810\u001b[0m         \u001b[43mmodule\u001b[49m\u001b[38;5;241;43m.\u001b[39;49m\u001b[43m_apply\u001b[49m\u001b[43m(\u001b[49m\u001b[43mfn\u001b[49m\u001b[43m)\u001b[49m\n\u001b[0;32m    812\u001b[0m \u001b[38;5;28;01mdef\u001b[39;00m \u001b[38;5;21mcompute_should_use_set_data\u001b[39m(tensor, tensor_applied):\n\u001b[0;32m    813\u001b[0m     \u001b[38;5;28;01mif\u001b[39;00m torch\u001b[38;5;241m.\u001b[39m_has_compatible_shallow_copy_type(tensor, tensor_applied):\n\u001b[0;32m    814\u001b[0m         \u001b[38;5;66;03m# If the new tensor has compatible tensor type as the existing tensor,\u001b[39;00m\n\u001b[0;32m    815\u001b[0m         \u001b[38;5;66;03m# the current behavior is to change the tensor in-place using `.data =`,\u001b[39;00m\n\u001b[1;32m   (...)\u001b[0m\n\u001b[0;32m    820\u001b[0m         \u001b[38;5;66;03m# global flag to let the user control whether they want the future\u001b[39;00m\n\u001b[0;32m    821\u001b[0m         \u001b[38;5;66;03m# behavior of overwriting the existing tensor or not.\u001b[39;00m\n",
      "File \u001b[1;32mc:\\Users\\Andrew\\envs\\nasc2024\\lib\\site-packages\\torch\\nn\\modules\\module.py:810\u001b[0m, in \u001b[0;36mModule._apply\u001b[1;34m(self, fn, recurse)\u001b[0m\n\u001b[0;32m    808\u001b[0m \u001b[38;5;28;01mif\u001b[39;00m recurse:\n\u001b[0;32m    809\u001b[0m     \u001b[38;5;28;01mfor\u001b[39;00m module \u001b[38;5;129;01min\u001b[39;00m \u001b[38;5;28mself\u001b[39m\u001b[38;5;241m.\u001b[39mchildren():\n\u001b[1;32m--> 810\u001b[0m         \u001b[43mmodule\u001b[49m\u001b[38;5;241;43m.\u001b[39;49m\u001b[43m_apply\u001b[49m\u001b[43m(\u001b[49m\u001b[43mfn\u001b[49m\u001b[43m)\u001b[49m\n\u001b[0;32m    812\u001b[0m \u001b[38;5;28;01mdef\u001b[39;00m \u001b[38;5;21mcompute_should_use_set_data\u001b[39m(tensor, tensor_applied):\n\u001b[0;32m    813\u001b[0m     \u001b[38;5;28;01mif\u001b[39;00m torch\u001b[38;5;241m.\u001b[39m_has_compatible_shallow_copy_type(tensor, tensor_applied):\n\u001b[0;32m    814\u001b[0m         \u001b[38;5;66;03m# If the new tensor has compatible tensor type as the existing tensor,\u001b[39;00m\n\u001b[0;32m    815\u001b[0m         \u001b[38;5;66;03m# the current behavior is to change the tensor in-place using `.data =`,\u001b[39;00m\n\u001b[1;32m   (...)\u001b[0m\n\u001b[0;32m    820\u001b[0m         \u001b[38;5;66;03m# global flag to let the user control whether they want the future\u001b[39;00m\n\u001b[0;32m    821\u001b[0m         \u001b[38;5;66;03m# behavior of overwriting the existing tensor or not.\u001b[39;00m\n",
      "File \u001b[1;32mc:\\Users\\Andrew\\envs\\nasc2024\\lib\\site-packages\\torch\\nn\\modules\\module.py:833\u001b[0m, in \u001b[0;36mModule._apply\u001b[1;34m(self, fn, recurse)\u001b[0m\n\u001b[0;32m    829\u001b[0m \u001b[38;5;66;03m# Tensors stored in modules are graph leaves, and we don't want to\u001b[39;00m\n\u001b[0;32m    830\u001b[0m \u001b[38;5;66;03m# track autograd history of `param_applied`, so we have to use\u001b[39;00m\n\u001b[0;32m    831\u001b[0m \u001b[38;5;66;03m# `with torch.no_grad():`\u001b[39;00m\n\u001b[0;32m    832\u001b[0m \u001b[38;5;28;01mwith\u001b[39;00m torch\u001b[38;5;241m.\u001b[39mno_grad():\n\u001b[1;32m--> 833\u001b[0m     param_applied \u001b[38;5;241m=\u001b[39m \u001b[43mfn\u001b[49m\u001b[43m(\u001b[49m\u001b[43mparam\u001b[49m\u001b[43m)\u001b[49m\n\u001b[0;32m    834\u001b[0m should_use_set_data \u001b[38;5;241m=\u001b[39m compute_should_use_set_data(param, param_applied)\n\u001b[0;32m    835\u001b[0m \u001b[38;5;28;01mif\u001b[39;00m should_use_set_data:\n",
      "File \u001b[1;32mc:\\Users\\Andrew\\envs\\nasc2024\\lib\\site-packages\\torch\\nn\\modules\\module.py:1158\u001b[0m, in \u001b[0;36mModule.to.<locals>.convert\u001b[1;34m(t)\u001b[0m\n\u001b[0;32m   1155\u001b[0m \u001b[38;5;28;01mif\u001b[39;00m convert_to_format \u001b[38;5;129;01mis\u001b[39;00m \u001b[38;5;129;01mnot\u001b[39;00m \u001b[38;5;28;01mNone\u001b[39;00m \u001b[38;5;129;01mand\u001b[39;00m t\u001b[38;5;241m.\u001b[39mdim() \u001b[38;5;129;01min\u001b[39;00m (\u001b[38;5;241m4\u001b[39m, \u001b[38;5;241m5\u001b[39m):\n\u001b[0;32m   1156\u001b[0m     \u001b[38;5;28;01mreturn\u001b[39;00m t\u001b[38;5;241m.\u001b[39mto(device, dtype \u001b[38;5;28;01mif\u001b[39;00m t\u001b[38;5;241m.\u001b[39mis_floating_point() \u001b[38;5;129;01mor\u001b[39;00m t\u001b[38;5;241m.\u001b[39mis_complex() \u001b[38;5;28;01melse\u001b[39;00m \u001b[38;5;28;01mNone\u001b[39;00m,\n\u001b[0;32m   1157\u001b[0m                 non_blocking, memory_format\u001b[38;5;241m=\u001b[39mconvert_to_format)\n\u001b[1;32m-> 1158\u001b[0m \u001b[38;5;28;01mreturn\u001b[39;00m \u001b[43mt\u001b[49m\u001b[38;5;241;43m.\u001b[39;49m\u001b[43mto\u001b[49m\u001b[43m(\u001b[49m\u001b[43mdevice\u001b[49m\u001b[43m,\u001b[49m\u001b[43m \u001b[49m\u001b[43mdtype\u001b[49m\u001b[43m \u001b[49m\u001b[38;5;28;43;01mif\u001b[39;49;00m\u001b[43m \u001b[49m\u001b[43mt\u001b[49m\u001b[38;5;241;43m.\u001b[39;49m\u001b[43mis_floating_point\u001b[49m\u001b[43m(\u001b[49m\u001b[43m)\u001b[49m\u001b[43m \u001b[49m\u001b[38;5;129;43;01mor\u001b[39;49;00m\u001b[43m \u001b[49m\u001b[43mt\u001b[49m\u001b[38;5;241;43m.\u001b[39;49m\u001b[43mis_complex\u001b[49m\u001b[43m(\u001b[49m\u001b[43m)\u001b[49m\u001b[43m \u001b[49m\u001b[38;5;28;43;01melse\u001b[39;49;00m\u001b[43m \u001b[49m\u001b[38;5;28;43;01mNone\u001b[39;49;00m\u001b[43m,\u001b[49m\u001b[43m \u001b[49m\u001b[43mnon_blocking\u001b[49m\u001b[43m)\u001b[49m\n",
      "\u001b[1;31mRuntimeError\u001b[0m: CUDA error: an illegal memory access was encountered\nCUDA kernel errors might be asynchronously reported at some other API call, so the stacktrace below might be incorrect.\nFor debugging consider passing CUDA_LAUNCH_BLOCKING=1.\nCompile with `TORCH_USE_CUDA_DSA` to enable device-side assertions.\n"
     ]
    }
   ],
   "source": [
    "import torch\n",
    "from transformers import AutoTokenizer, AutoModelForCausalLM\n",
    "\n",
    "tokenizer = AutoTokenizer.from_pretrained(\"stabilityai/japanese-stablelm-instruct-gamma-7b\")\n",
    "model = AutoModelForCausalLM.from_pretrained(\n",
    "  \"stabilityai/japanese-stablelm-instruct-gamma-7b\",\n",
    "  torch_dtype=torch.half\n",
    ")\n",
    "model.eval()\n",
    "\n",
    "if torch.cuda.is_available():\n",
    "    model = model.to(\"cuda\")\n",
    "\n",
    "def build_prompt(user_query, inputs=\"\", sep=\"\\n\\n### \"):\n",
    "    # sys_msg = \"あなたは国語教師です。以下の問題を考え、正しい選択肢を説明してください。\"\n",
    "    sys_msg = \"以下は、タスクを説明する指示と、文脈のある入力の組み合わせです。要求を適切に満たす応答を書きなさい。\"\n",
    "    p = sys_msg\n",
    "    roles = [\"指示\", \"応答\"]\n",
    "    msgs = [\": \\n\" + user_query, \": \\n\"]\n",
    "    if inputs:\n",
    "        roles.insert(1, \"入力\")\n",
    "        msgs.insert(1, \": \\n\" + inputs)\n",
    "    for role, msg in zip(roles, msgs):\n",
    "        p += sep + role + msg\n",
    "    return p\n"
   ]
  },
  {
   "cell_type": "code",
   "execution_count": null,
   "metadata": {},
   "outputs": [
    {
     "data": {
      "text/html": [
       "<div>\n",
       "<style scoped>\n",
       "    .dataframe tbody tr th:only-of-type {\n",
       "        vertical-align: middle;\n",
       "    }\n",
       "\n",
       "    .dataframe tbody tr th {\n",
       "        vertical-align: top;\n",
       "    }\n",
       "\n",
       "    .dataframe thead th {\n",
       "        text-align: right;\n",
       "    }\n",
       "</style>\n",
       "<table border=\"1\" class=\"dataframe\">\n",
       "  <thead>\n",
       "    <tr style=\"text-align: right;\">\n",
       "      <th></th>\n",
       "      <th>Question</th>\n",
       "      <th>Options</th>\n",
       "      <th>Answer</th>\n",
       "      <th>Answer_Option</th>\n",
       "    </tr>\n",
       "  </thead>\n",
       "  <tbody>\n",
       "    <tr>\n",
       "      <th>0</th>\n",
       "      <td>今日は___寒くないので、上着はいらないと思う。</td>\n",
       "      <td>a.ただ b.たいして c.なんとかして</td>\n",
       "      <td>a.ただ</td>\n",
       "      <td>['a']</td>\n",
       "    </tr>\n",
       "    <tr>\n",
       "      <th>1</th>\n",
       "      <td>今日は___品物を見ていただけで、何も買わなかった。</td>\n",
       "      <td>a.ただ b.いくら c.せっかく</td>\n",
       "      <td>a.</td>\n",
       "      <td>['a']</td>\n",
       "    </tr>\n",
       "    <tr>\n",
       "      <th>2</th>\n",
       "      <td>___怒らないでわたしの話を聞いてください。</td>\n",
       "      <td>a.どうか b.どうも c.どんなに</td>\n",
       "      <td>d.どうぞ</td>\n",
       "      <td>[]</td>\n",
       "    </tr>\n",
       "    <tr>\n",
       "      <th>3</th>\n",
       "      <td>転んだ子供は今にも___顔をしていた。</td>\n",
       "      <td>a.泣いた b.泣きそうな c.泣くような</td>\n",
       "      <td>b.</td>\n",
       "      <td>['b']</td>\n",
       "    </tr>\n",
       "    <tr>\n",
       "      <th>4</th>\n",
       "      <td>せっかくカメラを___、みんなで写真を撮ろう。</td>\n",
       "      <td>a.持ってきて b.持ってきたら c. 持ってきたのだから</td>\n",
       "      <td>a.持ってきて</td>\n",
       "      <td>['a']</td>\n",
       "    </tr>\n",
       "    <tr>\n",
       "      <th>...</th>\n",
       "      <td>...</td>\n",
       "      <td>...</td>\n",
       "      <td>...</td>\n",
       "      <td>...</td>\n",
       "    </tr>\n",
       "    <tr>\n",
       "      <th>79</th>\n",
       "      <td>先生の説明を聞いている___だんだんわかってきた。</td>\n",
       "      <td>a.うちに b.たびに c.ところを</td>\n",
       "      <td>c.</td>\n",
       "      <td>['c']</td>\n",
       "    </tr>\n",
       "    <tr>\n",
       "      <th>80</th>\n",
       "      <td>今朝___喉が痛かった。</td>\n",
       "      <td>a.起きたとき b.起きたついでに c.起きてるうちに</td>\n",
       "      <td>b.起きたついでに\\n\\n### 指示: \\n文法を基づいて、最もよい</td>\n",
       "      <td>['b']</td>\n",
       "    </tr>\n",
       "    <tr>\n",
       "      <th>81</th>\n",
       "      <td>祖父は年を取って、最近___なかった。今日もかぎの場所を忘れた。</td>\n",
       "      <td>a.忘れかけに b.忘れにくく c.忘れっぽく</td>\n",
       "      <td>A.b 「忘れやすい」を形容詞化した表現だが、「忘れっぽ</td>\n",
       "      <td>['b']</td>\n",
       "    </tr>\n",
       "    <tr>\n",
       "      <th>82</th>\n",
       "      <td>この店には高い品物___並んでいる。</td>\n",
       "      <td>a.ぐらい b.なんか c.しか d.ばかり</td>\n",
       "      <td>この店には高い品物ばかり並んでいる。a.ぐらい b.なんか c.</td>\n",
       "      <td>['a', 'b', 'c']</td>\n",
       "    </tr>\n",
       "    <tr>\n",
       "      <th>83</th>\n",
       "      <td>机の上に本がたくさん重ねてあって、今にも___。</td>\n",
       "      <td>a.崩れているようだ b.崩そうだ c.崩れてしまった d.崩れたら大変だ</td>\n",
       "      <td>c</td>\n",
       "      <td>['c']</td>\n",
       "    </tr>\n",
       "  </tbody>\n",
       "</table>\n",
       "<p>84 rows × 4 columns</p>\n",
       "</div>"
      ],
      "text/plain": [
       "                            Question                                Options  \\\n",
       "0           今日は___寒くないので、上着はいらないと思う。                   a.ただ b.たいして c.なんとかして   \n",
       "1         今日は___品物を見ていただけで、何も買わなかった。                      a.ただ b.いくら c.せっかく   \n",
       "2             ___怒らないでわたしの話を聞いてください。                     a.どうか b.どうも c.どんなに   \n",
       "3                転んだ子供は今にも___顔をしていた。                  a.泣いた b.泣きそうな c.泣くような   \n",
       "4            せっかくカメラを___、みんなで写真を撮ろう。          a.持ってきて b.持ってきたら c. 持ってきたのだから   \n",
       "..                               ...                                    ...   \n",
       "79         先生の説明を聞いている___だんだんわかってきた。                     a.うちに b.たびに c.ところを   \n",
       "80                      今朝___喉が痛かった。            a.起きたとき b.起きたついでに c.起きてるうちに   \n",
       "81  祖父は年を取って、最近___なかった。今日もかぎの場所を忘れた。                a.忘れかけに b.忘れにくく c.忘れっぽく   \n",
       "82                この店には高い品物___並んでいる。                 a.ぐらい b.なんか c.しか d.ばかり   \n",
       "83          机の上に本がたくさん重ねてあって、今にも___。  a.崩れているようだ b.崩そうだ c.崩れてしまった d.崩れたら大変だ   \n",
       "\n",
       "                                 Answer    Answer_Option  \n",
       "0                                  a.ただ            ['a']  \n",
       "1                                    a.            ['a']  \n",
       "2                                 d.どうぞ               []  \n",
       "3                                    b.            ['b']  \n",
       "4                               a.持ってきて            ['a']  \n",
       "..                                  ...              ...  \n",
       "79                                   c.            ['c']  \n",
       "80  b.起きたついでに\\n\\n### 指示: \\n文法を基づいて、最もよい            ['b']  \n",
       "81         A.b 「忘れやすい」を形容詞化した表現だが、「忘れっぽ            ['b']  \n",
       "82     この店には高い品物ばかり並んでいる。a.ぐらい b.なんか c.  ['a', 'b', 'c']  \n",
       "83                                    c            ['c']  \n",
       "\n",
       "[84 rows x 4 columns]"
      ]
     },
     "execution_count": 2,
     "metadata": {},
     "output_type": "execute_result"
    }
   ],
   "source": [
    "import pandas as pd\n",
    "N3 = pd.read_csv('./N3_answers.csv')\n",
    "N3"
   ]
  },
  {
   "cell_type": "code",
   "execution_count": null,
   "metadata": {},
   "outputs": [],
   "source": [
    "def ask_sensei(question, options):\n",
    "    question = question.replace(\"___\", \"[MASK]\")\n",
    "    # Infer with prompt without any additional input\n",
    "    user_inputs = {\n",
    "        \"user_query\":'まず、文法を基づいて、最もよい選択肢のアルファベットを一つ選びなさい。次に、文法について、十五字以内で説明しなさい。',\n",
    "        \"inputs\": f\"問題：{question} 選択肢：{options}\"\n",
    "    }\n",
    "\n",
    "    prompt = build_prompt(**user_inputs)\n",
    "\n",
    "    # print(prompt)\n",
    "    input_ids = tokenizer.encode(\n",
    "        prompt, \n",
    "        add_special_tokens=True, \n",
    "        return_tensors=\"pt\"\n",
    "    )\n",
    "\n",
    "    attention_mask = torch.ones_like(input_ids).to('cuda')  # Create attention mask with all 1s for non-padding tokens\n",
    "\n",
    "    tokens = model.generate(\n",
    "        input_ids.to(device=model.device),\n",
    "        attention_mask=attention_mask, \n",
    "        max_new_tokens=64,\n",
    "        temperature=1,\n",
    "        repetition_penalty=1.1,\n",
    "        # top_p=0.95,\n",
    "        do_sample=False,\n",
    "    )\n",
    "    out = tokenizer.decode(tokens[0][input_ids.shape[1]:], skip_special_tokens=True).strip()\n",
    "    print(out)\n",
    "    print(\"------------\")\n",
    "    return out"
   ]
  },
  {
   "cell_type": "code",
   "execution_count": null,
   "metadata": {},
   "outputs": [
    {
     "name": "stderr",
     "output_type": "stream",
     "text": [
      "Setting `pad_token_id` to `eos_token_id`:2 for open-end generation.\n"
     ]
    },
    {
     "name": "stderr",
     "output_type": "stream",
     "text": [
      "Setting `pad_token_id` to `eos_token_id`:2 for open-end generation.\n"
     ]
    },
    {
     "name": "stdout",
     "output_type": "stream",
     "text": [
      "b.today is not [MASK] cold\n",
      "------------\n"
     ]
    },
    {
     "name": "stderr",
     "output_type": "stream",
     "text": [
      "Setting `pad_token_id` to `eos_token_id`:2 for open-end generation.\n"
     ]
    },
    {
     "name": "stdout",
     "output_type": "stream",
     "text": [
      "\"ただ\"。この例文は「今日は～（=品物）を見るためだけに来たが、買わなかった」という意味になります。\n",
      "------------\n"
     ]
    },
    {
     "name": "stderr",
     "output_type": "stream",
     "text": [
      "Setting `pad_token_id` to `eos_token_id`:2 for open-end generation.\n"
     ]
    },
    {
     "name": "stdout",
     "output_type": "stream",
     "text": [
      "文法的に考えると、アメリカ英語のアルファベット順では「b.」が良いと思います。それには理由が3つあります。1）先頭の文字は母音で\n",
      "------------\n"
     ]
    },
    {
     "name": "stderr",
     "output_type": "stream",
     "text": [
      "Setting `pad_token_id` to `eos_token_id`:2 for open-end generation.\n"
     ]
    },
    {
     "name": "stdout",
     "output_type": "stream",
     "text": [
      "この問題に関して、a,cから文法的な誤りが発生し得る。bは意味不明になる場合がある。したがって、bに[MARGINAL]マークを付け、「\n",
      "------------\n"
     ]
    },
    {
     "name": "stderr",
     "output_type": "stream",
     "text": [
      "Setting `pad_token_id` to `eos_token_id`:2 for open-end generation.\n"
     ]
    },
    {
     "name": "stdout",
     "output_type": "stream",
     "text": [
      "(A) c.持ってきたのだから\n",
      "------------\n"
     ]
    },
    {
     "name": "stderr",
     "output_type": "stream",
     "text": [
      "Setting `pad_token_id` to `eos_token_id`:2 for open-end generation.\n"
     ]
    },
    {
     "name": "stdout",
     "output_type": "stream",
     "text": [
      "a：「駅に着く」が完了形か不完了形か分からないので、文法的によくありません。\n",
      "------------\n"
     ]
    },
    {
     "name": "stderr",
     "output_type": "stream",
     "text": [
      "Setting `pad_token_id` to `eos_token_id`:2 for open-end generation.\n"
     ]
    },
    {
     "name": "stdout",
     "output_type": "stream",
     "text": [
      "これは間違いです。正確な文法では選択肢はcになります。\n",
      "------------\n"
     ]
    },
    {
     "name": "stderr",
     "output_type": "stream",
     "text": [
      "Setting `pad_token_id` to `eos_token_id`:2 for open-end generation.\n"
     ]
    },
    {
     "name": "stdout",
     "output_type": "stream",
     "text": [
      "選択肢aは、動詞\"see\"（視）の現在進行形、bは過去形、cは過去分詞の名詞節的用法だから間違っています\n",
      "------------\n"
     ]
    },
    {
     "name": "stderr",
     "output_type": "stream",
     "text": [
      "Setting `pad_token_id` to `eos_token_id`:2 for open-end generation.\n"
     ]
    },
    {
     "name": "stdout",
     "output_type": "stream",
     "text": [
      "まず文法的に言うと、前述の3つの選択肢でそれが単語かどうかは異なります。「時間もあれば」は1つの言葉として見ることが\n",
      "------------\n"
     ]
    },
    {
     "name": "stderr",
     "output_type": "stream",
     "text": [
      "Setting `pad_token_id` to `eos_token_id`:2 for open-end generation.\n"
     ]
    },
    {
     "name": "stdout",
     "output_type": "stream",
     "text": [
      "問題文中の「古い」（old）が形容詞であり、主語の「本」で修飾される点で、「捨てられることに」（disposed）が動詞の名��\n",
      "------------\n"
     ]
    },
    {
     "name": "stderr",
     "output_type": "stream",
     "text": [
      "Setting `pad_token_id` to `eos_token_id`:2 for open-end generation.\n"
     ]
    },
    {
     "name": "stdout",
     "output_type": "stream",
     "text": [
      "選択肢Aは、「しまった」(意味：自分がミスを犯した時などに、後悔する気持ち)を表す形容動詞「凹む」の過去進行\n",
      "------------\n"
     ]
    },
    {
     "name": "stderr",
     "output_type": "stream",
     "text": [
      "Setting `pad_token_id` to `eos_token_id`:2 for open-end generation.\n"
     ]
    },
    {
     "name": "stdout",
     "output_type": "stream",
     "text": [
      "正解：b.なっている\n",
      "------------\n"
     ]
    },
    {
     "name": "stderr",
     "output_type": "stream",
     "text": [
      "Setting `pad_token_id` to `eos_token_id`:2 for open-end generation.\n"
     ]
    },
    {
     "name": "stdout",
     "output_type": "stream",
     "text": [
      "a とよく似ているが、c で使うような\n",
      "------------\n"
     ]
    },
    {
     "name": "stderr",
     "output_type": "stream",
     "text": [
      "Setting `pad_token_id` to `eos_token_id`:2 for open-end generation.\n"
     ]
    },
    {
     "name": "stdout",
     "output_type": "stream",
     "text": [
      "選択肢Aは正解で、選択肢Bは誤りです。主語-動詞の前置を使った動詞の意味を表現するため、この選択肢で動詞\n",
      "------------\n"
     ]
    },
    {
     "name": "stderr",
     "output_type": "stream",
     "text": [
      "Setting `pad_token_id` to `eos_token_id`:2 for open-end generation.\n"
     ]
    },
    {
     "name": "stdout",
     "output_type": "stream",
     "text": [
      "文法的に正確な回答：これは、正誤両方の解釈可能な短くて主語が省略された疑問文で、文法上正しく、どちらか一つの形式で「\n",
      "------------\n"
     ]
    },
    {
     "name": "stderr",
     "output_type": "stream",
     "text": [
      "Setting `pad_token_id` to `eos_token_id`:2 for open-end generation.\n"
     ]
    },
    {
     "name": "stdout",
     "output_type": "stream",
     "text": [
      "選択肢b.\n",
      "------------\n"
     ]
    },
    {
     "name": "stderr",
     "output_type": "stream",
     "text": [
      "Setting `pad_token_id` to `eos_token_id`:2 for open-end generation.\n"
     ]
    },
    {
     "name": "stdout",
     "output_type": "stream",
     "text": [
      "答え1：「b.会ったばかりで」　理由2：「a.会うばかりではなく」や「c.will not have time to meet anyone because of the busyness with work 忙しい仕事」と\n",
      "------------\n"
     ]
    },
    {
     "name": "stderr",
     "output_type": "stream",
     "text": [
      "Setting `pad_token_id` to `eos_token_id`:2 for open-end generation.\n"
     ]
    },
    {
     "name": "stdout",
     "output_type": "stream",
     "text": [
      "b.待ってばかりいる。\n",
      "------------\n"
     ]
    },
    {
     "name": "stderr",
     "output_type": "stream",
     "text": [
      "Setting `pad_token_id` to `eos_token_id`:2 for open-end generation.\n"
     ]
    },
    {
     "name": "stdout",
     "output_type": "stream",
     "text": [
      "aが正解で、文法的には、-ing形が主語になる構造なので、前置詞+ingにしています。\n",
      "------------\n"
     ]
    },
    {
     "name": "stderr",
     "output_type": "stream",
     "text": [
      "Setting `pad_token_id` to `eos_token_id`:2 for open-end generation.\n"
     ]
    },
    {
     "name": "stdout",
     "output_type": "stream",
     "text": [
      "aは誤り：「だけ」（only）は否定的用法にすることができる[1]。そのため、医師は本当にアルコールを止めるべきである。選択肢c.\n",
      "------------\n"
     ]
    },
    {
     "name": "stderr",
     "output_type": "stream",
     "text": [
      "Setting `pad_token_id` to `eos_token_id`:2 for open-end generation.\n"
     ]
    },
    {
     "name": "stdout",
     "output_type": "stream",
     "text": [
      "1.\tb.伝わるように\n",
      "------------\n"
     ]
    },
    {
     "name": "stderr",
     "output_type": "stream",
     "text": [
      "Setting `pad_token_id` to `eos_token_id`:2 for open-end generation.\n"
     ]
    },
    {
     "name": "stdout",
     "output_type": "stream",
     "text": [
      "1番目の選択肢が正解。それに「どうでも」と思える程度でしょ？\n",
      "------------\n"
     ]
    },
    {
     "name": "stderr",
     "output_type": "stream",
     "text": [
      "Setting `pad_token_id` to `eos_token_id`:2 for open-end generation.\n"
     ]
    },
    {
     "name": "stdout",
     "output_type": "stream",
     "text": [
      "a. - (理由)彼女らは実際に買って経験することを好む。壊れそうだ。\n",
      "------------\n"
     ]
    },
    {
     "name": "stderr",
     "output_type": "stream",
     "text": [
      "Setting `pad_token_id` to `eos_token_id`:2 for open-end generation.\n"
     ]
    },
    {
     "name": "stdout",
     "output_type": "stream",
     "text": [
      "正解：c.置いていない\n",
      "\n",
      "なぜ？「置いていない」は、「-'re」だから文法的に正しいが、他の二つは「無」の「be」なので不適\n",
      "------------\n"
     ]
    },
    {
     "name": "stderr",
     "output_type": "stream",
     "text": [
      "Setting `pad_token_id` to `eos_token_id`:2 for open-end generation.\n"
     ]
    },
    {
     "name": "stdout",
     "output_type": "stream",
     "text": [
      "「彼女」(3)と「今」(4)の接続詞and（英語）は「関係代名詞」(6)。動詞が未来の意味を持つので、これは将来\n",
      "------------\n"
     ]
    },
    {
     "name": "stderr",
     "output_type": "stream",
     "text": [
      "Setting `pad_token_id` to `eos_token_id`:2 for open-end generation.\n"
     ]
    },
    {
     "name": "stdout",
     "output_type": "stream",
     "text": [
      "選択肢cは文法的におかしく、動詞「わけ」を修飾語形にしています。これに対して、b, aに関して、その後を続ける必然性が\n",
      "------------\n"
     ]
    },
    {
     "name": "stderr",
     "output_type": "stream",
     "text": [
      "Setting `pad_token_id` to `eos_token_id`:2 for open-end generation.\n"
     ]
    },
    {
     "name": "stdout",
     "output_type": "stream",
     "text": [
      "選択肢のアルファベット順 : wahz\n",
      "------------\n"
     ]
    },
    {
     "name": "stderr",
     "output_type": "stream",
     "text": [
      "Setting `pad_token_id` to `eos_token_id`:2 for open-end generation.\n"
     ]
    },
    {
     "name": "stdout",
     "output_type": "stream",
     "text": [
      "まず「はず」を排除すべきでしょう。他に可能性はありません。次に選択肢「はず」を消去すれば残りは二つです。そこから決定する必要\n",
      "------------\n"
     ]
    },
    {
     "name": "stderr",
     "output_type": "stream",
     "text": [
      "Setting `pad_token_id` to `eos_token_id`:2 for open-end generation.\n"
     ]
    },
    {
     "name": "stdout",
     "output_type": "stream",
     "text": [
      "アルファベットaが誤りです。これは「彼ら」の性格ともいえるため、人称代名詞で第3者を表すaの使用は避けられているからです\n",
      "------------\n"
     ]
    },
    {
     "name": "stderr",
     "output_type": "stream",
     "text": [
      "Setting `pad_token_id` to `eos_token_id`:2 for open-end generation.\n"
     ]
    },
    {
     "name": "stdout",
     "output_type": "stream",
     "text": [
      "ここで、より多くが「形容詞」を参照します。名詞（noun）と形容詞（adjective）はいずれも、他の単語や表現物の意味を定義\n",
      "------------\n"
     ]
    },
    {
     "name": "stderr",
     "output_type": "stream",
     "text": [
      "Setting `pad_token_id` to `eos_token_id`:2 for open-end generation.\n"
     ]
    },
    {
     "name": "stdout",
     "output_type": "stream",
     "text": [
      "A.選択肢1は、この例で使用された形容詞を含む疑問文を持っている。cに比べれば、文の意味が変化する可能性が高く、aで\n",
      "------------\n"
     ]
    },
    {
     "name": "stderr",
     "output_type": "stream",
     "text": [
      "Setting `pad_token_id` to `eos_token_id`:2 for open-end generation.\n"
     ]
    },
    {
     "name": "stdout",
     "output_type": "stream",
     "text": [
      "選択肢cに注目してください。これが正解です。理由は、男女別のデータが、グラフ上で「並行」(vertical) に重ねられており、図中央\n",
      "------------\n"
     ]
    },
    {
     "name": "stderr",
     "output_type": "stream",
     "text": [
      "Setting `pad_token_id` to `eos_token_id`:2 for open-end generation.\n"
     ]
    },
    {
     "name": "stdout",
     "output_type": "stream",
     "text": [
      "1）最初の選択肢が正解だと思います。\n",
      "2）選択肢Aの主語により、これが「地球上」で行われていることが読者に伝わります。他\n",
      "------------\n"
     ]
    },
    {
     "name": "stderr",
     "output_type": "stream",
     "text": [
      "Setting `pad_token_id` to `eos_token_id`:2 for open-end generation.\n"
     ]
    },
    {
     "name": "stdout",
     "output_type": "stream",
     "text": [
      "この問題における正解は、[MASK]です。 単語「覚えた」は、前置詞（「〜を」という意味）＋名詞動詞を使った形\n",
      "------------\n"
     ]
    },
    {
     "name": "stderr",
     "output_type": "stream",
     "text": [
      "Setting `pad_token_id` to `eos_token_id`:2 for open-end generation.\n"
     ]
    },
    {
     "name": "stdout",
     "output_type": "stream",
     "text": [
      "選択肢b.「太陽の光が部屋いっぱいに入る」カーテン\n",
      "------------\n"
     ]
    },
    {
     "name": "stderr",
     "output_type": "stream",
     "text": [
      "Setting `pad_token_id` to `eos_token_id`:2 for open-end generation.\n"
     ]
    },
    {
     "name": "stdout",
     "output_type": "stream",
     "text": [
      "a）涙の主体的行動。\n",
      "------------\n"
     ]
    },
    {
     "name": "stderr",
     "output_type": "stream",
     "text": [
      "Setting `pad_token_id` to `eos_token_id`:2 for open-end generation.\n"
     ]
    },
    {
     "name": "stdout",
     "output_type": "stream",
     "text": [
      "パソコンが機能するには、プログラマーが必要です。\n",
      "------------\n"
     ]
    },
    {
     "name": "stderr",
     "output_type": "stream",
     "text": [
      "Setting `pad_token_id` to `eos_token_id`:2 for open-end generation.\n"
     ]
    },
    {
     "name": "stdout",
     "output_type": "stream",
     "text": [
      "a.選択肢が正解\n",
      "------------\n"
     ]
    },
    {
     "name": "stderr",
     "output_type": "stream",
     "text": [
      "Setting `pad_token_id` to `eos_token_id`:2 for open-end generation.\n"
     ]
    },
    {
     "name": "stdout",
     "output_type": "stream",
     "text": [
      "誤りの選択肢bは文法的でなく、正しい選択肢aはaは助詞であり、意味上も「の」と同じ働きをする助詞の1つです。\n",
      "------------\n"
     ]
    },
    {
     "name": "stderr",
     "output_type": "stream",
     "text": [
      "Setting `pad_token_id` to `eos_token_id`:2 for open-end generation.\n"
     ]
    },
    {
     "name": "stdout",
     "output_type": "stream",
     "text": [
      "a.正解。b.は不正解。\n",
      "------------\n"
     ]
    },
    {
     "name": "stderr",
     "output_type": "stream",
     "text": [
      "Setting `pad_token_id` to `eos_token_id`:2 for open-end generation.\n"
     ]
    },
    {
     "name": "stdout",
     "output_type": "stream",
     "text": [
      "誤り文bを、正しく文aに直すための修正箇所を教えて下さい。私がやっていることは何ですか？\n",
      "\n",
      "a.について = a.に従って =\n",
      "------------\n"
     ]
    },
    {
     "name": "stderr",
     "output_type": "stream",
     "text": [
      "Setting `pad_token_id` to `eos_token_id`:2 for open-end generation.\n"
     ]
    },
    {
     "name": "stdout",
     "output_type": "stream",
     "text": [
      "選択肢a.について：「か」が「k」で始まり、母音が「i」で繰り返されることから、この単語は「a.」の上位バリエーショ\n",
      "------------\n"
     ]
    },
    {
     "name": "stderr",
     "output_type": "stream",
     "text": [
      "Setting `pad_token_id` to `eos_token_id`:2 for open-end generation.\n"
     ]
    },
    {
     "name": "stdout",
     "output_type": "stream",
     "text": [
      "選択肢a.「わたし」が主語に当たります。これは私が考えられる限り、正しくない（「わたし」は普通受動的な文章内で使用すべき）。\n",
      "------------\n"
     ]
    },
    {
     "name": "stderr",
     "output_type": "stream",
     "text": [
      "Setting `pad_token_id` to `eos_token_id`:2 for open-end generation.\n"
     ]
    },
    {
     "name": "stdout",
     "output_type": "stream",
     "text": [
      "a.[MASK] is a good choice, because it has the same [MASK] of what we read in the example sentence, and thus they are connected to each other. It tells us about something positive about what the speaker was considering to do. It would not sound right, but could work if it is negative,\n",
      "------------\n"
     ]
    },
    {
     "name": "stderr",
     "output_type": "stream",
     "text": [
      "Setting `pad_token_id` to `eos_token_id`:2 for open-end generation.\n"
     ]
    },
    {
     "name": "stdout",
     "output_type": "stream",
     "text": [
      "正解：e\n",
      "お父さんが「少なくとも」（ぐらい）疲れているだろうと推測する前置詞「at least」が含まれているので、この表現は「\n",
      "------------\n"
     ]
    },
    {
     "name": "stderr",
     "output_type": "stream",
     "text": [
      "Setting `pad_token_id` to `eos_token_id`:2 for open-end generation.\n"
     ]
    },
    {
     "name": "stdout",
     "output_type": "stream",
     "text": [
      "a:「で」が「だ」「だけ」の主語に対応せず誤用、d:過去を回想する場面でも、時制の表現が過去形でもなく未来を描いた表現、という意\n",
      "------------\n"
     ]
    },
    {
     "name": "stderr",
     "output_type": "stream",
     "text": [
      "Setting `pad_token_id` to `eos_token_id`:2 for open-end generation.\n"
     ]
    },
    {
     "name": "stdout",
     "output_type": "stream",
     "text": [
      "a.「出てくる」は誤用かもしれない。文中では、対象物は実際に存在するが、話者はそれを想像する状態にあり、実体を伴うものではな\n",
      "------------\n"
     ]
    },
    {
     "name": "stderr",
     "output_type": "stream",
     "text": [
      "Setting `pad_token_id` to `eos_token_id`:2 for open-end generation.\n"
     ]
    },
    {
     "name": "stdout",
     "output_type": "stream",
     "text": [
      "最善の回答（および正しくない選択肢）：a.これは不自然な単語使用です。ほかのいくつかの例には、痛め、涼しくなって\n",
      "------------\n"
     ]
    },
    {
     "name": "stderr",
     "output_type": "stream",
     "text": [
      "Setting `pad_token_id` to `eos_token_id`:2 for open-end generation.\n"
     ]
    },
    {
     "name": "stdout",
     "output_type": "stream",
     "text": [
      "a.この文章には、「お借り」する場所が単数形であるのに対して、「お貸し」する場所が複数形です。結果、「お借り」する主語に\n",
      "------------\n"
     ]
    },
    {
     "name": "stderr",
     "output_type": "stream",
     "text": [
      "Setting `pad_token_id` to `eos_token_id`:2 for open-end generation.\n"
     ]
    },
    {
     "name": "stdout",
     "output_type": "stream",
     "text": [
      "\"a\".これが正解です。その理由は、「企業は…」（英語）と主張しています。最初から出ている企業は無効化されなくても、他の人が矛\n",
      "------------\n"
     ]
    },
    {
     "name": "stderr",
     "output_type": "stream",
     "text": [
      "Setting `pad_token_id` to `eos_token_id`:2 for open-end generation.\n"
     ]
    },
    {
     "name": "stdout",
     "output_type": "stream",
     "text": [
      "選択肢cは正しくない（誤）。他の場所からの情報で「a」が正しいのだろうと思うが、「b, c, d」全て間違いだ。 「c」が「\n",
      "------------\n"
     ]
    },
    {
     "name": "stderr",
     "output_type": "stream",
     "text": [
      "Setting `pad_token_id` to `eos_token_id`:2 for open-end generation.\n"
     ]
    },
    {
     "name": "stdout",
     "output_type": "stream",
     "text": [
      "1.行かれますか - 3文字\n",
      "2.参りますか - 6文字\n",
      "------------\n"
     ]
    },
    {
     "name": "stderr",
     "output_type": "stream",
     "text": [
      "Setting `pad_token_id` to `eos_token_id`:2 for open-end generation.\n"
     ]
    },
    {
     "name": "stdout",
     "output_type": "stream",
     "text": [
      "これらの句の動詞句の形態は、主語が受身能動を作り出すことに留意してください。また、動詞句「be + 形容詞」は、強制性を\n",
      "------------\n"
     ]
    },
    {
     "name": "stderr",
     "output_type": "stream",
     "text": [
      "Setting `pad_token_id` to `eos_token_id`:2 for open-end generation.\n"
     ]
    },
    {
     "name": "stdout",
     "output_type": "stream",
     "text": [
      "a. 英語的に正しく言えば、“addiction”だが、日本語的に言った場合に正しく言うと、「薬物依存症」。実際、「薬物中毒者\n",
      "------------\n"
     ]
    },
    {
     "name": "stderr",
     "output_type": "stream",
     "text": [
      "Setting `pad_token_id` to `eos_token_id`:2 for open-end generation.\n"
     ]
    },
    {
     "name": "stdout",
     "output_type": "stream",
     "text": [
      "aについては、「-つ」で終わる動詞形が適切だと思います。従って、bの方が良いでしょう。\n",
      "------------\n"
     ]
    },
    {
     "name": "stderr",
     "output_type": "stream",
     "text": [
      "Setting `pad_token_id` to `eos_token_id`:2 for open-end generation.\n"
     ]
    },
    {
     "name": "stdout",
     "output_type": "stream",
     "text": [
      "a 「洗う」という動詞に対して、「される」を後置する構文は誤用（文法的に正しくない）です。また、同様の理由からc 「��\n",
      "------------\n"
     ]
    },
    {
     "name": "stderr",
     "output_type": "stream",
     "text": [
      "Setting `pad_token_id` to `eos_token_id`:2 for open-end generation.\n"
     ]
    },
    {
     "name": "stdout",
     "output_type": "stream",
     "text": [
      "一番良い選択肢はc.プロらしいです。これが私の観点です。\n",
      "------------\n"
     ]
    },
    {
     "name": "stderr",
     "output_type": "stream",
     "text": [
      "Setting `pad_token_id` to `eos_token_id`:2 for open-end generation.\n"
     ]
    },
    {
     "name": "stdout",
     "output_type": "stream",
     "text": [
      "1: a 2: b\n",
      "アルファベットが「c」で始まっていて、英語として完全じゃないので最初の選択肢が正解\n",
      "------------\n"
     ]
    },
    {
     "name": "stderr",
     "output_type": "stream",
     "text": [
      "Setting `pad_token_id` to `eos_token_id`:2 for open-end generation.\n"
     ]
    },
    {
     "name": "stdout",
     "output_type": "stream",
     "text": [
      "選択肢a、正しい（bだと、「私は」と言うと「行く」主語が二人称になり誤り、cだと三人称の「youは」が間違える）\n",
      "------------\n"
     ]
    },
    {
     "name": "stderr",
     "output_type": "stream",
     "text": [
      "Setting `pad_token_id` to `eos_token_id`:2 for open-end generation.\n"
     ]
    },
    {
     "name": "stdout",
     "output_type": "stream",
     "text": [
      "選択肢bが正解です。これは最も良い形だと思いますが、僕は他の人に話しやすいように直接話そうとしています。英語を見たことが\n",
      "------------\n"
     ]
    },
    {
     "name": "stderr",
     "output_type": "stream",
     "text": [
      "Setting `pad_token_id` to `eos_token_id`:2 for open-end generation.\n"
     ]
    },
    {
     "name": "stdout",
     "output_type": "stream",
     "text": [
      "a（払う）が正解で、bとcは文法的に間違っています。\n",
      "------------\n"
     ]
    },
    {
     "name": "stderr",
     "output_type": "stream",
     "text": [
      "Setting `pad_token_id` to `eos_token_id`:2 for open-end generation.\n"
     ]
    },
    {
     "name": "stdout",
     "output_type": "stream",
     "text": [
      "最初の提案が誤りであることに同意する。 \"立て札\" と「入る」の前置詞(in, inside)を含む表現から構成され、不可能の限定的形態\n",
      "------------\n"
     ]
    },
    {
     "name": "stderr",
     "output_type": "stream",
     "text": [
      "Setting `pad_token_id` to `eos_token_id`:2 for open-end generation.\n"
     ]
    },
    {
     "name": "stdout",
     "output_type": "stream",
     "text": [
      "「a」 - 文法的に正確ではなく、言い回しも不自然だ。「b」 - 文法的に妥当だが、意味をなさない。「c」- 文法的に妥当で\n",
      "------------\n"
     ]
    },
    {
     "name": "stderr",
     "output_type": "stream",
     "text": [
      "Setting `pad_token_id` to `eos_token_id`:2 for open-end generation.\n"
     ]
    },
    {
     "name": "stdout",
     "output_type": "stream",
     "text": [
      "\n",
      "------------\n"
     ]
    },
    {
     "name": "stderr",
     "output_type": "stream",
     "text": [
      "Setting `pad_token_id` to `eos_token_id`:2 for open-end generation.\n"
     ]
    },
    {
     "name": "stdout",
     "output_type": "stream",
     "text": [
      "選択肢aは間違っている。「しては」は「する」では意味が通じない。選択肢bは正解だ。動詞を表す辞書に対して「す\n",
      "------------\n"
     ]
    },
    {
     "name": "stderr",
     "output_type": "stream",
     "text": [
      "Setting `pad_token_id` to `eos_token_id`:2 for open-end generation.\n"
     ]
    },
    {
     "name": "stdout",
     "output_type": "stream",
     "text": [
      "答えは「c」です。動詞「なあ」についての注意点として、これは「だろ？」や「分かる？」と解釈できることをお話しすべきでしょ\n",
      "------------\n"
     ]
    },
    {
     "name": "stderr",
     "output_type": "stream",
     "text": [
      "Setting `pad_token_id` to `eos_token_id`:2 for open-end generation.\n"
     ]
    },
    {
     "name": "stdout",
     "output_type": "stream",
     "text": [
      "a.ことから\n",
      "この選択肢が正しい「主語」だろう。意思、動作や判断、感情などの行為を示す単語の後に置く。\n",
      "一人称代名詞\n",
      "------------\n"
     ]
    },
    {
     "name": "stderr",
     "output_type": "stream",
     "text": [
      "Setting `pad_token_id` to `eos_token_id`:2 for open-end generation.\n"
     ]
    },
    {
     "name": "stdout",
     "output_type": "stream",
     "text": [
      "選択肢c。単純に逆転すれば、「絶対に勝てない」ことは非常に重要なことだからです。（2019年6月23日）\n",
      "------------\n"
     ]
    },
    {
     "name": "stderr",
     "output_type": "stream",
     "text": [
      "Setting `pad_token_id` to `eos_token_id`:2 for open-end generation.\n"
     ]
    },
    {
     "name": "stdout",
     "output_type": "stream",
     "text": [
      "b.「書いています」\n",
      "------------\n"
     ]
    },
    {
     "name": "stderr",
     "output_type": "stream",
     "text": [
      "Setting `pad_token_id` to `eos_token_id`:2 for open-end generation.\n"
     ]
    },
    {
     "name": "stdout",
     "output_type": "stream",
     "text": [
      "選択肢b. 暖房を入れよう　が正解　：暖房を入れれば寒いが良くなる、と考えられる。\n",
      "------------\n"
     ]
    },
    {
     "name": "stderr",
     "output_type": "stream",
     "text": [
      "Setting `pad_token_id` to `eos_token_id`:2 for open-end generation.\n"
     ]
    },
    {
     "name": "stdout",
     "output_type": "stream",
     "text": [
      "aは最も良い選択肢のアルファベットと考えられます。文中の\"b. \"および\"c. \"は副詞句ですが、それぞれ接続詞と形\n",
      "------------\n"
     ]
    },
    {
     "name": "stderr",
     "output_type": "stream",
     "text": [
      "Setting `pad_token_id` to `eos_token_id`:2 for open-end generation.\n"
     ]
    },
    {
     "name": "stdout",
     "output_type": "stream",
     "text": [
      "b.本棚を物色しているうちに夕方になってしまった。\n",
      "------------\n"
     ]
    },
    {
     "name": "stderr",
     "output_type": "stream",
     "text": [
      "Setting `pad_token_id` to `eos_token_id`:2 for open-end generation.\n"
     ]
    },
    {
     "name": "stdout",
     "output_type": "stream",
     "text": [
      "正解：[b].　日本で高い山は多く存在し、その中で富士山が一番高い山だからです。\n",
      "------------\n"
     ]
    },
    {
     "name": "stderr",
     "output_type": "stream",
     "text": [
      "Setting `pad_token_id` to `eos_token_id`:2 for open-end generation.\n"
     ]
    },
    {
     "name": "stdout",
     "output_type": "stream",
     "text": [
      "一般的な英語話者には、「I might have to settle down at this level of living.」が正解だろう。これは、日本人的なニュアンスとして、「(例えば)現在の生活水準で\n",
      "------------\n"
     ]
    },
    {
     "name": "stderr",
     "output_type": "stream",
     "text": [
      "Setting `pad_token_id` to `eos_token_id`:2 for open-end generation.\n"
     ]
    },
    {
     "name": "stdout",
     "output_type": "stream",
     "text": [
      "最も良いアルファベットは「b」だと思う。困ったことと比べる言葉で用いる助詞形「なら」で正しくないのは「くらいではない」だ\n",
      "------------\n"
     ]
    },
    {
     "name": "stderr",
     "output_type": "stream",
     "text": [
      "Setting `pad_token_id` to `eos_token_id`:2 for open-end generation.\n"
     ]
    },
    {
     "name": "stdout",
     "output_type": "stream",
     "text": [
      "a 遠慮しながら人手伝いを頼むことは「礼儀正しく」です（文法）b 本当は自分でやってしまったほうが良かった。\n",
      "------------\n"
     ]
    },
    {
     "name": "stderr",
     "output_type": "stream",
     "text": [
      "Setting `pad_token_id` to `eos_token_id`:2 for open-end generation.\n"
     ]
    },
    {
     "name": "stdout",
     "output_type": "stream",
     "text": [
      "c.のに対して\n",
      "------------\n"
     ]
    },
    {
     "name": "stderr",
     "output_type": "stream",
     "text": [
      "Setting `pad_token_id` to `eos_token_id`:2 for open-end generation.\n"
     ]
    },
    {
     "name": "stdout",
     "output_type": "stream",
     "text": [
      "1. a, andの前で転置助詞が来る場合の規則上の疑問形態は「質問」。しかし、動詞は後で述べられる場合もあり（不定\n",
      "------------\n"
     ]
    },
    {
     "ename": "RuntimeError",
     "evalue": "CUDA error: an illegal memory access was encountered\nCUDA kernel errors might be asynchronously reported at some other API call, so the stacktrace below might be incorrect.\nFor debugging consider passing CUDA_LAUNCH_BLOCKING=1.\nCompile with `TORCH_USE_CUDA_DSA` to enable device-side assertions.\n",
     "output_type": "error",
     "traceback": [
      "\u001b[1;31m---------------------------------------------------------------------------\u001b[0m",
      "\u001b[1;31mRuntimeError\u001b[0m                              Traceback (most recent call last)",
      "Cell \u001b[1;32mIn[4], line 3\u001b[0m\n\u001b[0;32m      1\u001b[0m sensei_ans \u001b[38;5;241m=\u001b[39m []\n\u001b[0;32m      2\u001b[0m \u001b[38;5;28;01mfor\u001b[39;00m index, row \u001b[38;5;129;01min\u001b[39;00m N3\u001b[38;5;241m.\u001b[39miterrows():\n\u001b[1;32m----> 3\u001b[0m     answer \u001b[38;5;241m=\u001b[39m \u001b[43mask_sensei\u001b[49m\u001b[43m(\u001b[49m\u001b[43mrow\u001b[49m\u001b[38;5;241;43m.\u001b[39;49m\u001b[43mQuestion\u001b[49m\u001b[43m,\u001b[49m\u001b[43m \u001b[49m\u001b[43mrow\u001b[49m\u001b[38;5;241;43m.\u001b[39;49m\u001b[43mOptions\u001b[49m\u001b[43m)\u001b[49m\n\u001b[0;32m      4\u001b[0m     sensei_ans\u001b[38;5;241m.\u001b[39mappend(answer)\n",
      "Cell \u001b[1;32mIn[3], line 20\u001b[0m, in \u001b[0;36mask_sensei\u001b[1;34m(question, options)\u001b[0m\n\u001b[0;32m     12\u001b[0m input_ids \u001b[38;5;241m=\u001b[39m tokenizer\u001b[38;5;241m.\u001b[39mencode(\n\u001b[0;32m     13\u001b[0m     prompt, \n\u001b[0;32m     14\u001b[0m     add_special_tokens\u001b[38;5;241m=\u001b[39m\u001b[38;5;28;01mTrue\u001b[39;00m, \n\u001b[0;32m     15\u001b[0m     return_tensors\u001b[38;5;241m=\u001b[39m\u001b[38;5;124m\"\u001b[39m\u001b[38;5;124mpt\u001b[39m\u001b[38;5;124m\"\u001b[39m\n\u001b[0;32m     16\u001b[0m )\n\u001b[0;32m     18\u001b[0m attention_mask \u001b[38;5;241m=\u001b[39m torch\u001b[38;5;241m.\u001b[39mones_like(input_ids)\u001b[38;5;241m.\u001b[39mto(\u001b[38;5;124m'\u001b[39m\u001b[38;5;124mcuda\u001b[39m\u001b[38;5;124m'\u001b[39m)  \u001b[38;5;66;03m# Create attention mask with all 1s for non-padding tokens\u001b[39;00m\n\u001b[1;32m---> 20\u001b[0m tokens \u001b[38;5;241m=\u001b[39m \u001b[43mmodel\u001b[49m\u001b[38;5;241;43m.\u001b[39;49m\u001b[43mgenerate\u001b[49m\u001b[43m(\u001b[49m\n\u001b[0;32m     21\u001b[0m \u001b[43m    \u001b[49m\u001b[43minput_ids\u001b[49m\u001b[38;5;241;43m.\u001b[39;49m\u001b[43mto\u001b[49m\u001b[43m(\u001b[49m\u001b[43mdevice\u001b[49m\u001b[38;5;241;43m=\u001b[39;49m\u001b[43mmodel\u001b[49m\u001b[38;5;241;43m.\u001b[39;49m\u001b[43mdevice\u001b[49m\u001b[43m)\u001b[49m\u001b[43m,\u001b[49m\n\u001b[0;32m     22\u001b[0m \u001b[43m    \u001b[49m\u001b[43mattention_mask\u001b[49m\u001b[38;5;241;43m=\u001b[39;49m\u001b[43mattention_mask\u001b[49m\u001b[43m,\u001b[49m\u001b[43m \u001b[49m\n\u001b[0;32m     23\u001b[0m \u001b[43m    \u001b[49m\u001b[43mmax_new_tokens\u001b[49m\u001b[38;5;241;43m=\u001b[39;49m\u001b[38;5;241;43m64\u001b[39;49m\u001b[43m,\u001b[49m\n\u001b[0;32m     24\u001b[0m \u001b[43m    \u001b[49m\u001b[43mtemperature\u001b[49m\u001b[38;5;241;43m=\u001b[39;49m\u001b[38;5;241;43m1\u001b[39;49m\u001b[43m,\u001b[49m\n\u001b[0;32m     25\u001b[0m \u001b[43m    \u001b[49m\u001b[43mrepetition_penalty\u001b[49m\u001b[38;5;241;43m=\u001b[39;49m\u001b[38;5;241;43m1.1\u001b[39;49m\u001b[43m,\u001b[49m\n\u001b[0;32m     26\u001b[0m \u001b[43m    \u001b[49m\u001b[43mtop_p\u001b[49m\u001b[38;5;241;43m=\u001b[39;49m\u001b[38;5;241;43m0.95\u001b[39;49m\u001b[43m,\u001b[49m\n\u001b[0;32m     27\u001b[0m \u001b[43m    \u001b[49m\u001b[43mdo_sample\u001b[49m\u001b[38;5;241;43m=\u001b[39;49m\u001b[38;5;28;43;01mTrue\u001b[39;49;00m\u001b[43m,\u001b[49m\n\u001b[0;32m     28\u001b[0m \u001b[43m\u001b[49m\u001b[43m)\u001b[49m\n\u001b[0;32m     29\u001b[0m out \u001b[38;5;241m=\u001b[39m tokenizer\u001b[38;5;241m.\u001b[39mdecode(tokens[\u001b[38;5;241m0\u001b[39m][input_ids\u001b[38;5;241m.\u001b[39mshape[\u001b[38;5;241m1\u001b[39m]:], skip_special_tokens\u001b[38;5;241m=\u001b[39m\u001b[38;5;28;01mTrue\u001b[39;00m)\u001b[38;5;241m.\u001b[39mstrip()\n\u001b[0;32m     30\u001b[0m \u001b[38;5;28mprint\u001b[39m(out)\n",
      "File \u001b[1;32mc:\\Users\\Andrew\\envs\\nasc2024\\lib\\site-packages\\torch\\utils\\_contextlib.py:115\u001b[0m, in \u001b[0;36mcontext_decorator.<locals>.decorate_context\u001b[1;34m(*args, **kwargs)\u001b[0m\n\u001b[0;32m    112\u001b[0m \u001b[38;5;129m@functools\u001b[39m\u001b[38;5;241m.\u001b[39mwraps(func)\n\u001b[0;32m    113\u001b[0m \u001b[38;5;28;01mdef\u001b[39;00m \u001b[38;5;21mdecorate_context\u001b[39m(\u001b[38;5;241m*\u001b[39margs, \u001b[38;5;241m*\u001b[39m\u001b[38;5;241m*\u001b[39mkwargs):\n\u001b[0;32m    114\u001b[0m     \u001b[38;5;28;01mwith\u001b[39;00m ctx_factory():\n\u001b[1;32m--> 115\u001b[0m         \u001b[38;5;28;01mreturn\u001b[39;00m \u001b[43mfunc\u001b[49m\u001b[43m(\u001b[49m\u001b[38;5;241;43m*\u001b[39;49m\u001b[43margs\u001b[49m\u001b[43m,\u001b[49m\u001b[43m \u001b[49m\u001b[38;5;241;43m*\u001b[39;49m\u001b[38;5;241;43m*\u001b[39;49m\u001b[43mkwargs\u001b[49m\u001b[43m)\u001b[49m\n",
      "File \u001b[1;32mc:\\Users\\Andrew\\envs\\nasc2024\\lib\\site-packages\\transformers\\generation\\utils.py:1764\u001b[0m, in \u001b[0;36mGenerationMixin.generate\u001b[1;34m(self, inputs, generation_config, logits_processor, stopping_criteria, prefix_allowed_tokens_fn, synced_gpus, assistant_model, streamer, negative_prompt_ids, negative_prompt_attention_mask, **kwargs)\u001b[0m\n\u001b[0;32m   1756\u001b[0m     input_ids, model_kwargs \u001b[38;5;241m=\u001b[39m \u001b[38;5;28mself\u001b[39m\u001b[38;5;241m.\u001b[39m_expand_inputs_for_generation(\n\u001b[0;32m   1757\u001b[0m         input_ids\u001b[38;5;241m=\u001b[39minput_ids,\n\u001b[0;32m   1758\u001b[0m         expand_size\u001b[38;5;241m=\u001b[39mgeneration_config\u001b[38;5;241m.\u001b[39mnum_return_sequences,\n\u001b[0;32m   1759\u001b[0m         is_encoder_decoder\u001b[38;5;241m=\u001b[39m\u001b[38;5;28mself\u001b[39m\u001b[38;5;241m.\u001b[39mconfig\u001b[38;5;241m.\u001b[39mis_encoder_decoder,\n\u001b[0;32m   1760\u001b[0m         \u001b[38;5;241m*\u001b[39m\u001b[38;5;241m*\u001b[39mmodel_kwargs,\n\u001b[0;32m   1761\u001b[0m     )\n\u001b[0;32m   1763\u001b[0m     \u001b[38;5;66;03m# 13. run sample\u001b[39;00m\n\u001b[1;32m-> 1764\u001b[0m     \u001b[38;5;28;01mreturn\u001b[39;00m \u001b[38;5;28;43mself\u001b[39;49m\u001b[38;5;241;43m.\u001b[39;49m\u001b[43msample\u001b[49m\u001b[43m(\u001b[49m\n\u001b[0;32m   1765\u001b[0m \u001b[43m        \u001b[49m\u001b[43minput_ids\u001b[49m\u001b[43m,\u001b[49m\n\u001b[0;32m   1766\u001b[0m \u001b[43m        \u001b[49m\u001b[43mlogits_processor\u001b[49m\u001b[38;5;241;43m=\u001b[39;49m\u001b[43mlogits_processor\u001b[49m\u001b[43m,\u001b[49m\n\u001b[0;32m   1767\u001b[0m \u001b[43m        \u001b[49m\u001b[43mlogits_warper\u001b[49m\u001b[38;5;241;43m=\u001b[39;49m\u001b[43mlogits_warper\u001b[49m\u001b[43m,\u001b[49m\n\u001b[0;32m   1768\u001b[0m \u001b[43m        \u001b[49m\u001b[43mstopping_criteria\u001b[49m\u001b[38;5;241;43m=\u001b[39;49m\u001b[43mstopping_criteria\u001b[49m\u001b[43m,\u001b[49m\n\u001b[0;32m   1769\u001b[0m \u001b[43m        \u001b[49m\u001b[43mpad_token_id\u001b[49m\u001b[38;5;241;43m=\u001b[39;49m\u001b[43mgeneration_config\u001b[49m\u001b[38;5;241;43m.\u001b[39;49m\u001b[43mpad_token_id\u001b[49m\u001b[43m,\u001b[49m\n\u001b[0;32m   1770\u001b[0m \u001b[43m        \u001b[49m\u001b[43meos_token_id\u001b[49m\u001b[38;5;241;43m=\u001b[39;49m\u001b[43mgeneration_config\u001b[49m\u001b[38;5;241;43m.\u001b[39;49m\u001b[43meos_token_id\u001b[49m\u001b[43m,\u001b[49m\n\u001b[0;32m   1771\u001b[0m \u001b[43m        \u001b[49m\u001b[43moutput_scores\u001b[49m\u001b[38;5;241;43m=\u001b[39;49m\u001b[43mgeneration_config\u001b[49m\u001b[38;5;241;43m.\u001b[39;49m\u001b[43moutput_scores\u001b[49m\u001b[43m,\u001b[49m\n\u001b[0;32m   1772\u001b[0m \u001b[43m        \u001b[49m\u001b[43mreturn_dict_in_generate\u001b[49m\u001b[38;5;241;43m=\u001b[39;49m\u001b[43mgeneration_config\u001b[49m\u001b[38;5;241;43m.\u001b[39;49m\u001b[43mreturn_dict_in_generate\u001b[49m\u001b[43m,\u001b[49m\n\u001b[0;32m   1773\u001b[0m \u001b[43m        \u001b[49m\u001b[43msynced_gpus\u001b[49m\u001b[38;5;241;43m=\u001b[39;49m\u001b[43msynced_gpus\u001b[49m\u001b[43m,\u001b[49m\n\u001b[0;32m   1774\u001b[0m \u001b[43m        \u001b[49m\u001b[43mstreamer\u001b[49m\u001b[38;5;241;43m=\u001b[39;49m\u001b[43mstreamer\u001b[49m\u001b[43m,\u001b[49m\n\u001b[0;32m   1775\u001b[0m \u001b[43m        \u001b[49m\u001b[38;5;241;43m*\u001b[39;49m\u001b[38;5;241;43m*\u001b[39;49m\u001b[43mmodel_kwargs\u001b[49m\u001b[43m,\u001b[49m\n\u001b[0;32m   1776\u001b[0m \u001b[43m    \u001b[49m\u001b[43m)\u001b[49m\n\u001b[0;32m   1778\u001b[0m \u001b[38;5;28;01melif\u001b[39;00m generation_mode \u001b[38;5;241m==\u001b[39m GenerationMode\u001b[38;5;241m.\u001b[39mBEAM_SEARCH:\n\u001b[0;32m   1779\u001b[0m     \u001b[38;5;66;03m# 11. prepare beam search scorer\u001b[39;00m\n\u001b[0;32m   1780\u001b[0m     beam_scorer \u001b[38;5;241m=\u001b[39m BeamSearchScorer(\n\u001b[0;32m   1781\u001b[0m         batch_size\u001b[38;5;241m=\u001b[39mbatch_size,\n\u001b[0;32m   1782\u001b[0m         num_beams\u001b[38;5;241m=\u001b[39mgeneration_config\u001b[38;5;241m.\u001b[39mnum_beams,\n\u001b[1;32m   (...)\u001b[0m\n\u001b[0;32m   1787\u001b[0m         max_length\u001b[38;5;241m=\u001b[39mgeneration_config\u001b[38;5;241m.\u001b[39mmax_length,\n\u001b[0;32m   1788\u001b[0m     )\n",
      "File \u001b[1;32mc:\\Users\\Andrew\\envs\\nasc2024\\lib\\site-packages\\transformers\\generation\\utils.py:2897\u001b[0m, in \u001b[0;36mGenerationMixin.sample\u001b[1;34m(self, input_ids, logits_processor, stopping_criteria, logits_warper, max_length, pad_token_id, eos_token_id, output_attentions, output_hidden_states, output_scores, return_dict_in_generate, synced_gpus, streamer, **model_kwargs)\u001b[0m\n\u001b[0;32m   2895\u001b[0m \u001b[38;5;66;03m# sample\u001b[39;00m\n\u001b[0;32m   2896\u001b[0m probs \u001b[38;5;241m=\u001b[39m nn\u001b[38;5;241m.\u001b[39mfunctional\u001b[38;5;241m.\u001b[39msoftmax(next_token_scores, dim\u001b[38;5;241m=\u001b[39m\u001b[38;5;241m-\u001b[39m\u001b[38;5;241m1\u001b[39m)\n\u001b[1;32m-> 2897\u001b[0m next_tokens \u001b[38;5;241m=\u001b[39m \u001b[43mtorch\u001b[49m\u001b[38;5;241;43m.\u001b[39;49m\u001b[43mmultinomial\u001b[49m\u001b[43m(\u001b[49m\u001b[43mprobs\u001b[49m\u001b[43m,\u001b[49m\u001b[43m \u001b[49m\u001b[43mnum_samples\u001b[49m\u001b[38;5;241;43m=\u001b[39;49m\u001b[38;5;241;43m1\u001b[39;49m\u001b[43m)\u001b[49m\u001b[38;5;241m.\u001b[39msqueeze(\u001b[38;5;241m1\u001b[39m)\n\u001b[0;32m   2899\u001b[0m \u001b[38;5;66;03m# finished sentences should have their next token be a padding token\u001b[39;00m\n\u001b[0;32m   2900\u001b[0m \u001b[38;5;28;01mif\u001b[39;00m eos_token_id \u001b[38;5;129;01mis\u001b[39;00m \u001b[38;5;129;01mnot\u001b[39;00m \u001b[38;5;28;01mNone\u001b[39;00m:\n",
      "\u001b[1;31mRuntimeError\u001b[0m: CUDA error: an illegal memory access was encountered\nCUDA kernel errors might be asynchronously reported at some other API call, so the stacktrace below might be incorrect.\nFor debugging consider passing CUDA_LAUNCH_BLOCKING=1.\nCompile with `TORCH_USE_CUDA_DSA` to enable device-side assertions.\n"
     ]
    }
   ],
   "source": [
    "sensei_ans = []\n",
    "for index, row in N3.iterrows():\n",
    "    answer = ask_sensei(row.Question, row.Options)\n",
    "    sensei_ans.append(answer)"
   ]
  },
  {
   "cell_type": "code",
   "execution_count": null,
   "metadata": {},
   "outputs": [],
   "source": [
    "N3['Answer_Update'] = sensei_ans"
   ]
  },
  {
   "cell_type": "code",
   "execution_count": null,
   "metadata": {},
   "outputs": [],
   "source": [
    "import numpy as np\n",
    "N3['Answer_Option_Update'] = N3['Answer_Update'].str.findall(r'a|b|c')"
   ]
  },
  {
   "cell_type": "code",
   "execution_count": null,
   "metadata": {},
   "outputs": [
    {
     "data": {
      "text/html": [
       "<div>\n",
       "<style scoped>\n",
       "    .dataframe tbody tr th:only-of-type {\n",
       "        vertical-align: middle;\n",
       "    }\n",
       "\n",
       "    .dataframe tbody tr th {\n",
       "        vertical-align: top;\n",
       "    }\n",
       "\n",
       "    .dataframe thead th {\n",
       "        text-align: right;\n",
       "    }\n",
       "</style>\n",
       "<table border=\"1\" class=\"dataframe\">\n",
       "  <thead>\n",
       "    <tr style=\"text-align: right;\">\n",
       "      <th></th>\n",
       "      <th>Question</th>\n",
       "      <th>Options</th>\n",
       "      <th>Answer</th>\n",
       "      <th>Answer_Option</th>\n",
       "    </tr>\n",
       "  </thead>\n",
       "  <tbody>\n",
       "    <tr>\n",
       "      <th>0</th>\n",
       "      <td>今日は___寒くないので、上着はいらないと思う。</td>\n",
       "      <td>a.ただ b.たいして c.なんとかして</td>\n",
       "      <td>a.ただ</td>\n",
       "      <td>[a]</td>\n",
       "    </tr>\n",
       "    <tr>\n",
       "      <th>1</th>\n",
       "      <td>今日は___品物を見ていただけで、何も買わなかった。</td>\n",
       "      <td>a.ただ b.いくら c.せっかく</td>\n",
       "      <td>a.</td>\n",
       "      <td>[a]</td>\n",
       "    </tr>\n",
       "    <tr>\n",
       "      <th>2</th>\n",
       "      <td>___怒らないでわたしの話を聞いてください。</td>\n",
       "      <td>a.どうか b.どうも c.どんなに</td>\n",
       "      <td>d.どうぞ</td>\n",
       "      <td>[]</td>\n",
       "    </tr>\n",
       "    <tr>\n",
       "      <th>3</th>\n",
       "      <td>転んだ子供は今にも___顔をしていた。</td>\n",
       "      <td>a.泣いた b.泣きそうな c.泣くような</td>\n",
       "      <td>b.</td>\n",
       "      <td>[b]</td>\n",
       "    </tr>\n",
       "    <tr>\n",
       "      <th>4</th>\n",
       "      <td>せっかくカメラを___、みんなで写真を撮ろう。</td>\n",
       "      <td>a.持ってきて b.持ってきたら c. 持ってきたのだから</td>\n",
       "      <td>a.持ってきて</td>\n",
       "      <td>[a]</td>\n",
       "    </tr>\n",
       "    <tr>\n",
       "      <th>5</th>\n",
       "      <td>3時に駅で待ち合わせした。駅に着くと、彼女はもう___。</td>\n",
       "      <td>a.来た b.来ていた</td>\n",
       "      <td>a</td>\n",
       "      <td>[a]</td>\n",
       "    </tr>\n",
       "    <tr>\n",
       "      <th>6</th>\n",
       "      <td>チャイムが鳴ったので玄関の外に出ると、宅配便の人が___。</td>\n",
       "      <td>a.来た b.いた</td>\n",
       "      <td>a.来た</td>\n",
       "      <td>[a]</td>\n",
       "    </tr>\n",
       "    <tr>\n",
       "      <th>7</th>\n",
       "      <td>目が痛いので、鏡で___、赤かった。</td>\n",
       "      <td>a.見てみると b.見ていると c.見ていたら</td>\n",
       "      <td>b. 見ていると</td>\n",
       "      <td>[b]</td>\n",
       "    </tr>\n",
       "    <tr>\n",
       "      <th>8</th>\n",
       "      <td>今は___お金もない。旅行は無理だ。</td>\n",
       "      <td>a.忙しければ b.暇もなければ c.時間もあれば</td>\n",
       "      <td>c</td>\n",
       "      <td>[c]</td>\n",
       "    </tr>\n",
       "    <tr>\n",
       "      <th>9</th>\n",
       "      <td>図書館で古い本は捨てられることに___。</td>\n",
       "      <td>a.した b.なった</td>\n",
       "      <td>a. した</td>\n",
       "      <td>[a]</td>\n",
       "    </tr>\n",
       "    <tr>\n",
       "      <th>10</th>\n",
       "      <td>今度の冬オリンピックはどこに___。</td>\n",
       "      <td>a.しましたか b.なりましたか</td>\n",
       "      <td>a.しましたか\\n\\n### 指示: \\n文法を基づいて、最もよい選択</td>\n",
       "      <td>[a]</td>\n",
       "    </tr>\n",
       "    <tr>\n",
       "      <th>11</th>\n",
       "      <td>この公園では花火をしてはいけないことに___。</td>\n",
       "      <td>a.している b.なっている</td>\n",
       "      <td>a. している</td>\n",
       "      <td>[a]</td>\n",
       "    </tr>\n",
       "    <tr>\n",
       "      <th>12</th>\n",
       "      <td>「引っ越しする___したんです。来月から弟といっしょに住むことになったので…二人で住むのには...</td>\n",
       "      <td>a.ことに b.ように</td>\n",
       "      <td>a.ことに b.ように</td>\n",
       "      <td>[a, b]</td>\n",
       "    </tr>\n",
       "    <tr>\n",
       "      <th>13</th>\n",
       "      <td>わたしはなるべく肉よりも___ようにしている。</td>\n",
       "      <td>a.魚を食べる b.魚が食べられる</td>\n",
       "      <td>b. 魚が食べられる</td>\n",
       "      <td>[b]</td>\n",
       "    </tr>\n",
       "    <tr>\n",
       "      <th>14</th>\n",
       "      <td>うちの台所は、長い時間ガスを使うと___ようになっている。</td>\n",
       "      <td>a.火を消す b.火が消える</td>\n",
       "      <td>b.火が消える</td>\n",
       "      <td>[b]</td>\n",
       "    </tr>\n",
       "    <tr>\n",
       "      <th>15</th>\n",
       "      <td>ホテルでは、お風呂に入っても___ようになっている。</td>\n",
       "      <td>a.電話をかける b.電話がかけられる</td>\n",
       "      <td>「電話をかけられる」が正解</td>\n",
       "      <td>[]</td>\n",
       "    </tr>\n",
       "    <tr>\n",
       "      <th>16</th>\n",
       "      <td>わたしはあの有名な歌手に___、握手もした。</td>\n",
       "      <td>a.会うばかりで b. 会ったばかりでなく c.会ってばかりいないで</td>\n",
       "      <td>b. 会ったばかりでなく</td>\n",
       "      <td>[b]</td>\n",
       "    </tr>\n",
       "    <tr>\n",
       "      <th>17</th>\n",
       "      <td>出席者もそろったので、後はパーティーが始まるのを___</td>\n",
       "      <td>a.待つばかりだ b.待ってばかりいる c.待ったばかりだ</td>\n",
       "      <td>a.待ってばかりいる</td>\n",
       "      <td>[a]</td>\n",
       "    </tr>\n",
       "    <tr>\n",
       "      <th>18</th>\n",
       "      <td>子供が生まれる日が近づいたが、夫の僕は何もできない。ただ___</td>\n",
       "      <td>a.見守るばかりだ b.見守ったばかりだ c.見守ってばかりいる</td>\n",
       "      <td>c</td>\n",
       "      <td>[c]</td>\n",
       "    </tr>\n",
       "    <tr>\n",
       "      <th>19</th>\n",
       "      <td>医者にお酒を止められているが、ちょっと___いいだろう。</td>\n",
       "      <td>a.だけでは b.だけでも c.ぐらいなら d.などなら</td>\n",
       "      <td>a.だけでは</td>\n",
       "      <td>[a]</td>\n",
       "    </tr>\n",
       "    <tr>\n",
       "      <th>20</th>\n",
       "      <td>意味が正しく___、正しい言葉を使いましょう。</td>\n",
       "      <td>a.伝えるために b.伝わるように c.伝わることで d.伝えることで</td>\n",
       "      <td>a</td>\n",
       "      <td>[a]</td>\n",
       "    </tr>\n",
       "    <tr>\n",
       "      <th>21</th>\n",
       "      <td>一度会った___どんな人物か分からない。</td>\n",
       "      <td>a.ほどなら b.ことでも c.だけでも d.だけでは</td>\n",
       "      <td>d</td>\n",
       "      <td>[]</td>\n",
       "    </tr>\n",
       "    <tr>\n",
       "      <th>22</th>\n",
       "      <td>人形に話を聞かせても___わけがないでしょう。</td>\n",
       "      <td>a.わかる b.わからない c.わかりにくい</td>\n",
       "      <td>aは不適切である。なぜなら、人形は話しを聞くことがで</td>\n",
       "      <td>[a]</td>\n",
       "    </tr>\n",
       "    <tr>\n",
       "      <th>23</th>\n",
       "      <td>荷物が重いけれど、ここに___わけにはいかない。</td>\n",
       "      <td>a.置いていく b.置いていける c.置いていない</td>\n",
       "      <td>b.置いていける\\n\\n### 指示: \\n文法を基づいて、最もよい選</td>\n",
       "      <td>[b]</td>\n",
       "    </tr>\n",
       "    <tr>\n",
       "      <th>24</th>\n",
       "      <td>彼女は今、日本にいないのだから、明日の会に___。</td>\n",
       "      <td>a.来るわけがない b.来ないわけにはいかない c.来るというわけではない</td>\n",
       "      <td>a</td>\n",
       "      <td>[a]</td>\n",
       "    </tr>\n",
       "    <tr>\n",
       "      <th>25</th>\n",
       "      <td>ゲームはいけないという___が、子供はもっと外で遊んだほうがいい。</td>\n",
       "      <td>a.わけにはいかない b.わけではない c.わけがない</td>\n",
       "      <td>ゲームはいけないという[MASK]が、子供はもっと外で遊んだほうが</td>\n",
       "      <td>[]</td>\n",
       "    </tr>\n",
       "    <tr>\n",
       "      <th>26</th>\n",
       "      <td>実験のやり方を変えてみたいんです。今度はきっと成功する___です。期待していてください。</td>\n",
       "      <td>a.わけ b.はず</td>\n",
       "      <td>a. わけ\\n文脈 - わけ</td>\n",
       "      <td>[a]</td>\n",
       "    </tr>\n",
       "    <tr>\n",
       "      <th>27</th>\n",
       "      <td>実験のやり方を変えてみたいんです。だから、こんなにいい結果がでた___です。</td>\n",
       "      <td>a.わけ b.はず</td>\n",
       "      <td>b.はず</td>\n",
       "      <td>[b]</td>\n",
       "    </tr>\n",
       "    <tr>\n",
       "      <th>28</th>\n",
       "      <td>みんなが心配している___問題点は、もう解決したのではないだろうか。</td>\n",
       "      <td>a.ような b.ように c.ようだ</td>\n",
       "      <td>ような問題点</td>\n",
       "      <td>[]</td>\n",
       "    </tr>\n",
       "    <tr>\n",
       "      <th>29</th>\n",
       "      <td>わたしの日本語の発音はフランス語の___と言われた。</td>\n",
       "      <td>a.ような b.ように c.ようだ</td>\n",
       "      <td>a。ような</td>\n",
       "      <td>[a]</td>\n",
       "    </tr>\n",
       "    <tr>\n",
       "      <th>30</th>\n",
       "      <td>小さい子供でも食べられる___メニューは何かありますか。</td>\n",
       "      <td>a.ような b.ように c.ようだ</td>\n",
       "      <td>小さい子供向けの食事の例として、ハンバーガーやスパゲティなど、フ</td>\n",
       "      <td>[]</td>\n",
       "    </tr>\n",
       "    <tr>\n",
       "      <th>31</th>\n",
       "      <td>表からわかる___男女の大学進学率はほとんど同じになっています。</td>\n",
       "      <td>a.ような b.ように c.ようだ</td>\n",
       "      <td>文法を基づいて、最もよい選択肢は「a.ような」です。</td>\n",
       "      <td>[a]</td>\n",
       "    </tr>\n",
       "    <tr>\n",
       "      <th>32</th>\n",
       "      <td>母は地震の後も何もなかったか___落ち着いていた。</td>\n",
       "      <td>a.のように b.ように</td>\n",
       "      <td>a.のように\\n\\n### 指示: \\n文法を基づいて、最もよい選択�</td>\n",
       "      <td>[a]</td>\n",
       "    </tr>\n",
       "    <tr>\n",
       "      <th>33</th>\n",
       "      <td>覚えた漢字を忘れない___、ときどき復習している。</td>\n",
       "      <td>a.ために b.ように</td>\n",
       "      <td>a.ために</td>\n",
       "      <td>[a]</td>\n",
       "    </tr>\n",
       "    <tr>\n",
       "      <th>34</th>\n",
       "      <td>太陽の光が部屋いっぱいに入る___カーテンを大きく開けてください。</td>\n",
       "      <td>a.ために b.ように</td>\n",
       "      <td>これが一番良い選択肢です: a.</td>\n",
       "      <td>[a]</td>\n",
       "    </tr>\n",
       "    <tr>\n",
       "      <th>35</th>\n",
       "      <td>___だろう。君の将来を考えていっているんだ。</td>\n",
       "      <td>a.泣くのはない b.泣くことはない c.泣かないの</td>\n",
       "      <td>「泣かないの」</td>\n",
       "      <td>[]</td>\n",
       "    </tr>\n",
       "    <tr>\n",
       "      <th>36</th>\n",
       "      <td>パソコンはクラスを作る___に役立つ。</td>\n",
       "      <td>a.こと b.の</td>\n",
       "      <td>a こと</td>\n",
       "      <td>[a]</td>\n",
       "    </tr>\n",
       "    <tr>\n",
       "      <th>37</th>\n",
       "      <td>氷点という___は水が氷になる、または氷が水になる温度のことである。</td>\n",
       "      <td>a.こと b.の</td>\n",
       "      <td>a.こと\\n\\n### 指示: \\n文法を基づいて、最もよい選択肢</td>\n",
       "      <td>[a]</td>\n",
       "    </tr>\n",
       "    <tr>\n",
       "      <th>38</th>\n",
       "      <td>これからはますます就職が難しくなる___ではないか。</td>\n",
       "      <td>a.こと b.の</td>\n",
       "      <td>b.の</td>\n",
       "      <td>[b]</td>\n",
       "    </tr>\n",
       "    <tr>\n",
       "      <th>39</th>\n",
       "      <td>あれ？あっちの方からだれかが呼んでいる___が聞こえませんか。</td>\n",
       "      <td>a.こと b.の</td>\n",
       "      <td>a</td>\n",
       "      <td>[a]</td>\n",
       "    </tr>\n",
       "    <tr>\n",
       "      <th>40</th>\n",
       "      <td>服のデザインは時代___変わる。</td>\n",
       "      <td>a.について b.に対して c.によって d.にとって e.として</td>\n",
       "      <td>b.に対して</td>\n",
       "      <td>[b]</td>\n",
       "    </tr>\n",
       "    <tr>\n",
       "      <th>41</th>\n",
       "      <td>昔、コーヒーやお茶は薬___飲まれていた。</td>\n",
       "      <td>a.について b.に対して c.によって d.にとって e.として</td>\n",
       "      <td>c.</td>\n",
       "      <td>[c]</td>\n",
       "    </tr>\n",
       "    <tr>\n",
       "      <th>42</th>\n",
       "      <td>あの市長はわたしたち市民___いつも偉そうな態度だ。</td>\n",
       "      <td>a.について b.にとって c.に対して</td>\n",
       "      <td>a.\\n\\n### 指示: \\n文法を基づいて、最もよい選択肢を一</td>\n",
       "      <td>[a]</td>\n",
       "    </tr>\n",
       "    <tr>\n",
       "      <th>43</th>\n",
       "      <td>次の電車までまだ時間があるから、雑誌___読んで待っていよう。</td>\n",
       "      <td>a.こそ b.でも c.さえ d.まで e.ぐらい f.など g.だけ</td>\n",
       "      <td>e.まで</td>\n",
       "      <td>[]</td>\n",
       "    </tr>\n",
       "    <tr>\n",
       "      <th>44</th>\n",
       "      <td>お父さんは出張で疲れているだろうから、寝たい___寝させてあげよう。</td>\n",
       "      <td>a.こそ b.でも c.さえ d.まで e.ぐらい f.など g.だけ</td>\n",
       "      <td>c.さえ\\n\\n### 指示: \\n文法を基づいて、最もよい選択肢</td>\n",
       "      <td>[c]</td>\n",
       "    </tr>\n",
       "    <tr>\n",
       "      <th>45</th>\n",
       "      <td>毎朝電車で会う、名前___知らない人を好きになった。</td>\n",
       "      <td>a.こそ b.でも c.さえ d.まで e.ぐらい f.など g.だけ</td>\n",
       "      <td>正しいのは d. まで</td>\n",
       "      <td>[]</td>\n",
       "    </tr>\n",
       "    <tr>\n",
       "      <th>46</th>\n",
       "      <td>苦手な漢字のテストが夢にまで___。</td>\n",
       "      <td>a.出てくる b.出てこない</td>\n",
       "      <td>a. 出てくる</td>\n",
       "      <td>[a]</td>\n",
       "    </tr>\n",
       "    <tr>\n",
       "      <th>47</th>\n",
       "      <td>「胃の検査をするので、朝から水___飲んでみたいないんです。」「あ、水を飲んだんですか。それ...</td>\n",
       "      <td>a.も b.しか c.ぐらい</td>\n",
       "      <td>a.も</td>\n",
       "      <td>[a]</td>\n",
       "    </tr>\n",
       "    <tr>\n",
       "      <th>48</th>\n",
       "      <td>『図書館で』あ、それは持ち出し禁止の資料ですので、___。</td>\n",
       "      <td>a.お借りできません b.お貸しできません c.お借りしません d.お貸しになりません</td>\n",
       "      <td>b.お貸しできません</td>\n",
       "      <td>[b]</td>\n",
       "    </tr>\n",
       "    <tr>\n",
       "      <th>49</th>\n",
       "      <td>会社を___</td>\n",
       "      <td>a.出るようにしたら b.出ている間 c.出ようとしたら d.出ているうちに</td>\n",
       "      <td>文法的には、会社を出るようにしましょう - 他の動詞に置き換え</td>\n",
       "      <td>[]</td>\n",
       "    </tr>\n",
       "    <tr>\n",
       "      <th>50</th>\n",
       "      <td>「お宅のこうちゃん、薬飲まないの？」「そうなの。あの子、___、いやがって口を開けないよ。」</td>\n",
       "      <td>a.飲むことにしても b.飲むつもりでも c.飲ませたつもりでも d.飲ませんようとしても</td>\n",
       "      <td>b. 飲むつもりでも</td>\n",
       "      <td>[b]</td>\n",
       "    </tr>\n",
       "    <tr>\n",
       "      <th>51</th>\n",
       "      <td>『美術館で』あの、お客様、どちらへ___。この奥は関係者以外は入れませんが。</td>\n",
       "      <td>a.行かれますか b.参りますか c.おられますか d.見えますか</td>\n",
       "      <td>a。</td>\n",
       "      <td>[a]</td>\n",
       "    </tr>\n",
       "    <tr>\n",
       "      <th>52</th>\n",
       "      <td>一度失敗しただけで___よ。もう少し頑張って。</td>\n",
       "      <td>a.諦めたわけがない b.諦めたはずがない c.諦めるわけではない d.諦めるべきではない</td>\n",
       "      <td>c.諦めるわけではない</td>\n",
       "      <td>[c]</td>\n",
       "    </tr>\n",
       "    <tr>\n",
       "      <th>53</th>\n",
       "      <td>今、週18時間もアルバイトをしている。もうこれ以上___ことにした。</td>\n",
       "      <td>a.増えない b.増やさない c.増やせない</td>\n",
       "      <td>c.増やせない</td>\n",
       "      <td>[c]</td>\n",
       "    </tr>\n",
       "    <tr>\n",
       "      <th>54</th>\n",
       "      <td>これ、ねずみに見えますか。自分ではねこを___つもりですが’……。</td>\n",
       "      <td>a.かく b.かいた c.かこうという</td>\n",
       "      <td>a.かく</td>\n",
       "      <td>[a]</td>\n",
       "    </tr>\n",
       "    <tr>\n",
       "      <th>55</th>\n",
       "      <td>この靴下はていねいに___つもりだが、まだ完全にはきれいになっていない。</td>\n",
       "      <td>a.洗濯する b.洗濯される c.洗濯した</td>\n",
       "      <td>a.洗濯する</td>\n",
       "      <td>[a]</td>\n",
       "    </tr>\n",
       "    <tr>\n",
       "      <th>56</th>\n",
       "      <td>あなたはそれでも___つもりですか。プロならきちんと仕事をしてください。</td>\n",
       "      <td>a.プロの b.プロだと思う c.プロらしい</td>\n",
       "      <td>b.プロだと思う</td>\n",
       "      <td>[b]</td>\n",
       "    </tr>\n",
       "    <tr>\n",
       "      <th>57</th>\n",
       "      <td>3月3にうちでパーティーを開く___ので、ぜひおいでください。</td>\n",
       "      <td>a.ようになさいしました b.ようにしておりました c.ことにいたしました</td>\n",
       "      <td>a.ようになさいしました</td>\n",
       "      <td>[a]</td>\n",
       "    </tr>\n",
       "    <tr>\n",
       "      <th>58</th>\n",
       "      <td>ずっと___所に父が連れてくれた。とても楽しかった。</td>\n",
       "      <td>a. 行きたかった b.行ってほしかった c.行ってもらいたかった</td>\n",
       "      <td>行ってもらいたかった</td>\n",
       "      <td>[]</td>\n",
       "    </tr>\n",
       "    <tr>\n",
       "      <th>59</th>\n",
       "      <td>説明がよく分かりませんでした。もう一度___ほしいのですが。</td>\n",
       "      <td>a.教えて b.教えさせて c.教わって</td>\n",
       "      <td>a.教えて</td>\n",
       "      <td>[a]</td>\n",
       "    </tr>\n",
       "    <tr>\n",
       "      <th>60</th>\n",
       "      <td>今すぐお金を___と言われても困ります。来週必ず払いますから、待ってください。</td>\n",
       "      <td>a.払う b.払え c.払える</td>\n",
       "      <td>b.払え</td>\n",
       "      <td>[b]</td>\n",
       "    </tr>\n",
       "    <tr>\n",
       "      <th>61</th>\n",
       "      <td>『立て札』芝生に___。</td>\n",
       "      <td>a.入らないこと b.入れないこと c.入らないことだ</td>\n",
       "      <td>b.入れないこと\\n\\n入り口にある「立入禁止」の看板を思い出します</td>\n",
       "      <td>[b]</td>\n",
       "    </tr>\n",
       "    <tr>\n",
       "      <th>62</th>\n",
       "      <td>ちょっと調べたいことがあるんですが、このパソコンを___。</td>\n",
       "      <td>a.使ったらどうですか b.使うのがどうですか c.使てもいいですか</td>\n",
       "      <td>b.使うのがどうですか</td>\n",
       "      <td>[b]</td>\n",
       "    </tr>\n",
       "    <tr>\n",
       "      <th>63</th>\n",
       "      <td>すみません。このピアノ練習室をわたしにも___のですが。</td>\n",
       "      <td>a.使ってもらいたい b.使われるといい c.使わせてほしい</td>\n",
       "      <td>a.使ってもらいたい</td>\n",
       "      <td>[a]</td>\n",
       "    </tr>\n",
       "    <tr>\n",
       "      <th>64</th>\n",
       "      <td>いいレストランで食事を___、そんなかっこうではだめだろう。</td>\n",
       "      <td>a.しては b.するなら c.するうちに d.したら</td>\n",
       "      <td>a.しては</td>\n",
       "      <td>[a]</td>\n",
       "    </tr>\n",
       "    <tr>\n",
       "      <th>65</th>\n",
       "      <td>あれ、その上着はちょっと大きすぎる。きのう買う前に___なあ。</td>\n",
       "      <td>a.着てみたほうがいい b.着てみたらいい c.着てみてよかった d.着てみればよかった</td>\n",
       "      <td>b.</td>\n",
       "      <td>[b]</td>\n",
       "    </tr>\n",
       "    <tr>\n",
       "      <th>66</th>\n",
       "      <td>国の大学で日本留学生と知り合った___、日本に興味を持った。</td>\n",
       "      <td>a.ことから b.とおりに c.ついでに d.のだから</td>\n",
       "      <td>a.ことから</td>\n",
       "      <td>[a]</td>\n",
       "    </tr>\n",
       "    <tr>\n",
       "      <th>67</th>\n",
       "      <td>強いゲームではないが、___とは限らない。</td>\n",
       "      <td>a.絶対に勝てない b.必ず勝てる c.絶対に負けない</td>\n",
       "      <td>ゲームには必ず勝てないが絶対に負けない</td>\n",
       "      <td>[]</td>\n",
       "    </tr>\n",
       "    <tr>\n",
       "      <th>68</th>\n",
       "      <td>山田さんの住所はここに書いてあるとは___が、10年前のです。</td>\n",
       "      <td>a.書きました b.書いています c.書いてあります</td>\n",
       "      <td>a.書きました</td>\n",
       "      <td>[a]</td>\n",
       "    </tr>\n",
       "    <tr>\n",
       "      <th>69</th>\n",
       "      <td>少し寒いことは寒いが、___。</td>\n",
       "      <td>a.暖房は必要ない b.暖房を入れよう c.暖房を入れた</td>\n",
       "      <td>a.暖房は必要ない</td>\n",
       "      <td>[a]</td>\n",
       "    </tr>\n",
       "    <tr>\n",
       "      <th>70</th>\n",
       "      <td>アンケートの結果から、ほとんど人がこの商品に満足している___。</td>\n",
       "      <td>a.と言われている b.とのことだ c.ことがわかる</td>\n",
       "      <td>a.\\n\\n### 指示: \\n文法を基づいて、最もよい選択肢を一</td>\n",
       "      <td>[a]</td>\n",
       "    </tr>\n",
       "    <tr>\n",
       "      <th>71</th>\n",
       "      <td>本屋で読みたい本を___待ち合わせの時間を過ぎてしまった。</td>\n",
       "      <td>a.探している間 b.探しているうちに c.探しながら d.探しから</td>\n",
       "      <td>b. 探しているうちに</td>\n",
       "      <td>[b]</td>\n",
       "    </tr>\n",
       "    <tr>\n",
       "      <th>72</th>\n",
       "      <td>日本で富士山ぐらい___山はないと思う。</td>\n",
       "      <td>a.きれいな b.高い c.ほかの</td>\n",
       "      <td>そうですね。Aが最も一般的です。</td>\n",
       "      <td>[]</td>\n",
       "    </tr>\n",
       "    <tr>\n",
       "      <th>73</th>\n",
       "      <td>___くらいなら、今の生活レベルでがまんしよう。</td>\n",
       "      <td>a.いい仕事がない b.仕事が欲しい c.きつい仕事をする</td>\n",
       "      <td>a.</td>\n",
       "      <td>[a]</td>\n",
       "    </tr>\n",
       "    <tr>\n",
       "      <th>74</th>\n",
       "      <td>仕事がなくなる___つらいことはない。</td>\n",
       "      <td>a.くらい b.くらいなら c.くらいでは</td>\n",
       "      <td>b.くらいなら</td>\n",
       "      <td>[b]</td>\n",
       "    </tr>\n",
       "    <tr>\n",
       "      <th>75</th>\n",
       "      <td>遠慮しながら人手伝いを頼む___、自分でやってしまったほうがいい。</td>\n",
       "      <td>a.一方で b.というより c.くらいなら</td>\n",
       "      <td>b</td>\n",
       "      <td>[b]</td>\n",
       "    </tr>\n",
       "    <tr>\n",
       "      <th>76</th>\n",
       "      <td>林さんのお子さんにあいさつすると、返事をする___いつもにこにこ笑う。</td>\n",
       "      <td>a.かわりに b.反面 c.のに対して</td>\n",
       "      <td>b.反面</td>\n",
       "      <td>[b]</td>\n",
       "    </tr>\n",
       "    <tr>\n",
       "      <th>77</th>\n",
       "      <td>学校を休んで遊んでいる___友達のお母さんに見られた。</td>\n",
       "      <td>a.ところで b.ところに c.ところを</td>\n",
       "      <td>a. ところで\\n\\n### 指示: \\n文法を基づいて、最もよい選択</td>\n",
       "      <td>[a]</td>\n",
       "    </tr>\n",
       "    <tr>\n",
       "      <th>78</th>\n",
       "      <td>刺身は___新鮮なほど美味しい。</td>\n",
       "      <td>a.新鮮だと b.新鮮なら c.新鮮でなければ</td>\n",
       "      <td>答え: a.新鮮だと\\n\\n文脈からわかるように、本文は\"��</td>\n",
       "      <td>[a]</td>\n",
       "    </tr>\n",
       "    <tr>\n",
       "      <th>79</th>\n",
       "      <td>先生の説明を聞いている___だんだんわかってきた。</td>\n",
       "      <td>a.うちに b.たびに c.ところを</td>\n",
       "      <td>c.</td>\n",
       "      <td>[c]</td>\n",
       "    </tr>\n",
       "    <tr>\n",
       "      <th>80</th>\n",
       "      <td>今朝___喉が痛かった。</td>\n",
       "      <td>a.起きたとき b.起きたついでに c.起きてるうちに</td>\n",
       "      <td>b.起きたついでに\\n\\n### 指示: \\n文法を基づいて、最もよい</td>\n",
       "      <td>[b]</td>\n",
       "    </tr>\n",
       "    <tr>\n",
       "      <th>81</th>\n",
       "      <td>祖父は年を取って、最近___なかった。今日もかぎの場所を忘れた。</td>\n",
       "      <td>a.忘れかけに b.忘れにくく c.忘れっぽく</td>\n",
       "      <td>A.b 「忘れやすい」を形容詞化した表現だが、「忘れっぽ</td>\n",
       "      <td>[b]</td>\n",
       "    </tr>\n",
       "    <tr>\n",
       "      <th>82</th>\n",
       "      <td>この店には高い品物___並んでいる。</td>\n",
       "      <td>a.ぐらい b.なんか c.しか d.ばかり</td>\n",
       "      <td>この店には高い品物ばかり並んでいる。a.ぐらい b.なんか c.</td>\n",
       "      <td>[a, b, c]</td>\n",
       "    </tr>\n",
       "    <tr>\n",
       "      <th>83</th>\n",
       "      <td>机の上に本がたくさん重ねてあって、今にも___。</td>\n",
       "      <td>a.崩れているようだ b.崩そうだ c.崩れてしまった d.崩れたら大変だ</td>\n",
       "      <td>c</td>\n",
       "      <td>[c]</td>\n",
       "    </tr>\n",
       "  </tbody>\n",
       "</table>\n",
       "</div>"
      ],
      "text/plain": [
       "                                             Question  \\\n",
       "0                            今日は___寒くないので、上着はいらないと思う。   \n",
       "1                          今日は___品物を見ていただけで、何も買わなかった。   \n",
       "2                              ___怒らないでわたしの話を聞いてください。   \n",
       "3                                 転んだ子供は今にも___顔をしていた。   \n",
       "4                             せっかくカメラを___、みんなで写真を撮ろう。   \n",
       "5                        3時に駅で待ち合わせした。駅に着くと、彼女はもう___。   \n",
       "6                       チャイムが鳴ったので玄関の外に出ると、宅配便の人が___。   \n",
       "7                                  目が痛いので、鏡で___、赤かった。   \n",
       "8                                  今は___お金もない。旅行は無理だ。   \n",
       "9                                図書館で古い本は捨てられることに___。   \n",
       "10                                 今度の冬オリンピックはどこに___。   \n",
       "11                            この公園では花火をしてはいけないことに___。   \n",
       "12  「引っ越しする___したんです。来月から弟といっしょに住むことになったので…二人で住むのには...   \n",
       "13                            わたしはなるべく肉よりも___ようにしている。   \n",
       "14                      うちの台所は、長い時間ガスを使うと___ようになっている。   \n",
       "15                         ホテルでは、お風呂に入っても___ようになっている。   \n",
       "16                             わたしはあの有名な歌手に___、握手もした。   \n",
       "17                        出席者もそろったので、後はパーティーが始まるのを___   \n",
       "18                    子供が生まれる日が近づいたが、夫の僕は何もできない。ただ___   \n",
       "19                       医者にお酒を止められているが、ちょっと___いいだろう。   \n",
       "20                            意味が正しく___、正しい言葉を使いましょう。   \n",
       "21                               一度会った___どんな人物か分からない。   \n",
       "22                            人形に話を聞かせても___わけがないでしょう。   \n",
       "23                           荷物が重いけれど、ここに___わけにはいかない。   \n",
       "24                          彼女は今、日本にいないのだから、明日の会に___。   \n",
       "25                  ゲームはいけないという___が、子供はもっと外で遊んだほうがいい。   \n",
       "26       実験のやり方を変えてみたいんです。今度はきっと成功する___です。期待していてください。   \n",
       "27             実験のやり方を変えてみたいんです。だから、こんなにいい結果がでた___です。   \n",
       "28                 みんなが心配している___問題点は、もう解決したのではないだろうか。   \n",
       "29                         わたしの日本語の発音はフランス語の___と言われた。   \n",
       "30                       小さい子供でも食べられる___メニューは何かありますか。   \n",
       "31                   表からわかる___男女の大学進学率はほとんど同じになっています。   \n",
       "32                          母は地震の後も何もなかったか___落ち着いていた。   \n",
       "33                          覚えた漢字を忘れない___、ときどき復習している。   \n",
       "34                  太陽の光が部屋いっぱいに入る___カーテンを大きく開けてください。   \n",
       "35                            ___だろう。君の将来を考えていっているんだ。   \n",
       "36                                パソコンはクラスを作る___に役立つ。   \n",
       "37                 氷点という___は水が氷になる、または氷が水になる温度のことである。   \n",
       "38                         これからはますます就職が難しくなる___ではないか。   \n",
       "39                    あれ？あっちの方からだれかが呼んでいる___が聞こえませんか。   \n",
       "40                                   服のデザインは時代___変わる。   \n",
       "41                              昔、コーヒーやお茶は薬___飲まれていた。   \n",
       "42                         あの市長はわたしたち市民___いつも偉そうな態度だ。   \n",
       "43                    次の電車までまだ時間があるから、雑誌___読んで待っていよう。   \n",
       "44                 お父さんは出張で疲れているだろうから、寝たい___寝させてあげよう。   \n",
       "45                         毎朝電車で会う、名前___知らない人を好きになった。   \n",
       "46                                 苦手な漢字のテストが夢にまで___。   \n",
       "47  「胃の検査をするので、朝から水___飲んでみたいないんです。」「あ、水を飲んだんですか。それ...   \n",
       "48                      『図書館で』あ、それは持ち出し禁止の資料ですので、___。   \n",
       "49                                             会社を___   \n",
       "50     「お宅のこうちゃん、薬飲まないの？」「そうなの。あの子、___、いやがって口を開けないよ。」   \n",
       "51             『美術館で』あの、お客様、どちらへ___。この奥は関係者以外は入れませんが。   \n",
       "52                            一度失敗しただけで___よ。もう少し頑張って。   \n",
       "53                 今、週18時間もアルバイトをしている。もうこれ以上___ことにした。   \n",
       "54                  これ、ねずみに見えますか。自分ではねこを___つもりですが’……。   \n",
       "55               この靴下はていねいに___つもりだが、まだ完全にはきれいになっていない。   \n",
       "56               あなたはそれでも___つもりですか。プロならきちんと仕事をしてください。   \n",
       "57                    3月3にうちでパーティーを開く___ので、ぜひおいでください。   \n",
       "58                         ずっと___所に父が連れてくれた。とても楽しかった。   \n",
       "59                     説明がよく分かりませんでした。もう一度___ほしいのですが。   \n",
       "60            今すぐお金を___と言われても困ります。来週必ず払いますから、待ってください。   \n",
       "61                                       『立て札』芝生に___。   \n",
       "62                      ちょっと調べたいことがあるんですが、このパソコンを___。   \n",
       "63                       すみません。このピアノ練習室をわたしにも___のですが。   \n",
       "64                     いいレストランで食事を___、そんなかっこうではだめだろう。   \n",
       "65                    あれ、その上着はちょっと大きすぎる。きのう買う前に___なあ。   \n",
       "66                     国の大学で日本留学生と知り合った___、日本に興味を持った。   \n",
       "67                              強いゲームではないが、___とは限らない。   \n",
       "68                    山田さんの住所はここに書いてあるとは___が、10年前のです。   \n",
       "69                                    少し寒いことは寒いが、___。   \n",
       "70                   アンケートの結果から、ほとんど人がこの商品に満足している___。   \n",
       "71                      本屋で読みたい本を___待ち合わせの時間を過ぎてしまった。   \n",
       "72                               日本で富士山ぐらい___山はないと思う。   \n",
       "73                           ___くらいなら、今の生活レベルでがまんしよう。   \n",
       "74                                仕事がなくなる___つらいことはない。   \n",
       "75                  遠慮しながら人手伝いを頼む___、自分でやってしまったほうがいい。   \n",
       "76                林さんのお子さんにあいさつすると、返事をする___いつもにこにこ笑う。   \n",
       "77                        学校を休んで遊んでいる___友達のお母さんに見られた。   \n",
       "78                                   刺身は___新鮮なほど美味しい。   \n",
       "79                          先生の説明を聞いている___だんだんわかってきた。   \n",
       "80                                       今朝___喉が痛かった。   \n",
       "81                   祖父は年を取って、最近___なかった。今日もかぎの場所を忘れた。   \n",
       "82                                 この店には高い品物___並んでいる。   \n",
       "83                           机の上に本がたくさん重ねてあって、今にも___。   \n",
       "\n",
       "                                          Options  \\\n",
       "0                            a.ただ b.たいして c.なんとかして   \n",
       "1                               a.ただ b.いくら c.せっかく   \n",
       "2                              a.どうか b.どうも c.どんなに   \n",
       "3                           a.泣いた b.泣きそうな c.泣くような   \n",
       "4                   a.持ってきて b.持ってきたら c. 持ってきたのだから   \n",
       "5                                     a.来た b.来ていた   \n",
       "6                                       a.来た b.いた   \n",
       "7                         a.見てみると b.見ていると c.見ていたら   \n",
       "8                       a.忙しければ b.暇もなければ c.時間もあれば   \n",
       "9                                      a.した b.なった   \n",
       "10                               a.しましたか b.なりましたか   \n",
       "11                                 a.している b.なっている   \n",
       "12                                    a.ことに b.ように   \n",
       "13                              a.魚を食べる b.魚が食べられる   \n",
       "14                                 a.火を消す b.火が消える   \n",
       "15                            a.電話をかける b.電話がかけられる   \n",
       "16             a.会うばかりで b. 会ったばかりでなく c.会ってばかりいないで   \n",
       "17                  a.待つばかりだ b.待ってばかりいる c.待ったばかりだ   \n",
       "18               a.見守るばかりだ b.見守ったばかりだ c.見守ってばかりいる   \n",
       "19                   a.だけでは b.だけでも c.ぐらいなら d.などなら   \n",
       "20            a.伝えるために b.伝わるように c.伝わることで d.伝えることで   \n",
       "21                    a.ほどなら b.ことでも c.だけでも d.だけでは   \n",
       "22                         a.わかる b.わからない c.わかりにくい   \n",
       "23                      a.置いていく b.置いていける c.置いていない   \n",
       "24          a.来るわけがない b.来ないわけにはいかない c.来るというわけではない   \n",
       "25                    a.わけにはいかない b.わけではない c.わけがない   \n",
       "26                                      a.わけ b.はず   \n",
       "27                                      a.わけ b.はず   \n",
       "28                              a.ような b.ように c.ようだ   \n",
       "29                              a.ような b.ように c.ようだ   \n",
       "30                              a.ような b.ように c.ようだ   \n",
       "31                              a.ような b.ように c.ようだ   \n",
       "32                                   a.のように b.ように   \n",
       "33                                    a.ために b.ように   \n",
       "34                                    a.ために b.ように   \n",
       "35                     a.泣くのはない b.泣くことはない c.泣かないの   \n",
       "36                                       a.こと b.の   \n",
       "37                                       a.こと b.の   \n",
       "38                                       a.こと b.の   \n",
       "39                                       a.こと b.の   \n",
       "40              a.について b.に対して c.によって d.にとって e.として   \n",
       "41              a.について b.に対して c.によって d.にとって e.として   \n",
       "42                           a.について b.にとって c.に対して   \n",
       "43            a.こそ b.でも c.さえ d.まで e.ぐらい f.など g.だけ   \n",
       "44            a.こそ b.でも c.さえ d.まで e.ぐらい f.など g.だけ   \n",
       "45            a.こそ b.でも c.さえ d.まで e.ぐらい f.など g.だけ   \n",
       "46                                 a.出てくる b.出てこない   \n",
       "47                                 a.も b.しか c.ぐらい   \n",
       "48    a.お借りできません b.お貸しできません c.お借りしません d.お貸しになりません   \n",
       "49         a.出るようにしたら b.出ている間 c.出ようとしたら d.出ているうちに   \n",
       "50  a.飲むことにしても b.飲むつもりでも c.飲ませたつもりでも d.飲ませんようとしても   \n",
       "51              a.行かれますか b.参りますか c.おられますか d.見えますか   \n",
       "52  a.諦めたわけがない b.諦めたはずがない c.諦めるわけではない d.諦めるべきではない   \n",
       "53                         a.増えない b.増やさない c.増やせない   \n",
       "54                            a.かく b.かいた c.かこうという   \n",
       "55                          a.洗濯する b.洗濯される c.洗濯した   \n",
       "56                         a.プロの b.プロだと思う c.プロらしい   \n",
       "57          a.ようになさいしました b.ようにしておりました c.ことにいたしました   \n",
       "58              a. 行きたかった b.行ってほしかった c.行ってもらいたかった   \n",
       "59                           a.教えて b.教えさせて c.教わって   \n",
       "60                                a.払う b.払え c.払える   \n",
       "61                    a.入らないこと b.入れないこと c.入らないことだ   \n",
       "62             a.使ったらどうですか b.使うのがどうですか c.使てもいいですか   \n",
       "63                 a.使ってもらいたい b.使われるといい c.使わせてほしい   \n",
       "64                     a.しては b.するなら c.するうちに d.したら   \n",
       "65   a.着てみたほうがいい b.着てみたらいい c.着てみてよかった d.着てみればよかった   \n",
       "66                    a.ことから b.とおりに c.ついでに d.のだから   \n",
       "67                    a.絶対に勝てない b.必ず勝てる c.絶対に負けない   \n",
       "68                     a.書きました b.書いています c.書いてあります   \n",
       "69                   a.暖房は必要ない b.暖房を入れよう c.暖房を入れた   \n",
       "70                     a.と言われている b.とのことだ c.ことがわかる   \n",
       "71             a.探している間 b.探しているうちに c.探しながら d.探しから   \n",
       "72                              a.きれいな b.高い c.ほかの   \n",
       "73                  a.いい仕事がない b.仕事が欲しい c.きつい仕事をする   \n",
       "74                          a.くらい b.くらいなら c.くらいでは   \n",
       "75                          a.一方で b.というより c.くらいなら   \n",
       "76                            a.かわりに b.反面 c.のに対して   \n",
       "77                           a.ところで b.ところに c.ところを   \n",
       "78                        a.新鮮だと b.新鮮なら c.新鮮でなければ   \n",
       "79                             a.うちに b.たびに c.ところを   \n",
       "80                    a.起きたとき b.起きたついでに c.起きてるうちに   \n",
       "81                        a.忘れかけに b.忘れにくく c.忘れっぽく   \n",
       "82                         a.ぐらい b.なんか c.しか d.ばかり   \n",
       "83          a.崩れているようだ b.崩そうだ c.崩れてしまった d.崩れたら大変だ   \n",
       "\n",
       "                                 Answer Answer_Option  \n",
       "0                                  a.ただ           [a]  \n",
       "1                                    a.           [a]  \n",
       "2                                 d.どうぞ            []  \n",
       "3                                    b.           [b]  \n",
       "4                               a.持ってきて           [a]  \n",
       "5                                     a           [a]  \n",
       "6                                  a.来た           [a]  \n",
       "7                              b. 見ていると           [b]  \n",
       "8                                     c           [c]  \n",
       "9                                 a. した           [a]  \n",
       "10  a.しましたか\\n\\n### 指示: \\n文法を基づいて、最もよい選択           [a]  \n",
       "11                              a. している           [a]  \n",
       "12                          a.ことに b.ように        [a, b]  \n",
       "13                           b. 魚が食べられる           [b]  \n",
       "14                              b.火が消える           [b]  \n",
       "15                        「電話をかけられる」が正解            []  \n",
       "16                         b. 会ったばかりでなく           [b]  \n",
       "17                           a.待ってばかりいる           [a]  \n",
       "18                                    c           [c]  \n",
       "19                               a.だけでは           [a]  \n",
       "20                                    a           [a]  \n",
       "21                                    d            []  \n",
       "22           aは不適切である。なぜなら、人形は話しを聞くことがで           [a]  \n",
       "23  b.置いていける\\n\\n### 指示: \\n文法を基づいて、最もよい選           [b]  \n",
       "24                                    a           [a]  \n",
       "25    ゲームはいけないという[MASK]が、子供はもっと外で遊んだほうが            []  \n",
       "26                       a. わけ\\n文脈 - わけ           [a]  \n",
       "27                                 b.はず           [b]  \n",
       "28                               ような問題点            []  \n",
       "29                                a。ような           [a]  \n",
       "30     小さい子供向けの食事の例として、ハンバーガーやスパゲティなど、フ            []  \n",
       "31           文法を基づいて、最もよい選択肢は「a.ような」です。           [a]  \n",
       "32  a.のように\\n\\n### 指示: \\n文法を基づいて、最もよい選択�           [a]  \n",
       "33                                a.ために           [a]  \n",
       "34                     これが一番良い選択肢です: a.           [a]  \n",
       "35                              「泣かないの」            []  \n",
       "36                                 a こと           [a]  \n",
       "37    a.こと\\n\\n### 指示: \\n文法を基づいて、最もよい選択肢           [a]  \n",
       "38                                  b.の           [b]  \n",
       "39                                    a           [a]  \n",
       "40                               b.に対して           [b]  \n",
       "41                                   c.           [c]  \n",
       "42    a.\\n\\n### 指示: \\n文法を基づいて、最もよい選択肢を一           [a]  \n",
       "43                                 e.まで            []  \n",
       "44    c.さえ\\n\\n### 指示: \\n文法を基づいて、最もよい選択肢           [c]  \n",
       "45                          正しいのは d. まで            []  \n",
       "46                              a. 出てくる           [a]  \n",
       "47                                  a.も           [a]  \n",
       "48                           b.お貸しできません           [b]  \n",
       "49      文法的には、会社を出るようにしましょう - 他の動詞に置き換え            []  \n",
       "50                           b. 飲むつもりでも           [b]  \n",
       "51                                   a。           [a]  \n",
       "52                          c.諦めるわけではない           [c]  \n",
       "53                              c.増やせない           [c]  \n",
       "54                                 a.かく           [a]  \n",
       "55                               a.洗濯する           [a]  \n",
       "56                             b.プロだと思う           [b]  \n",
       "57                         a.ようになさいしました           [a]  \n",
       "58                           行ってもらいたかった            []  \n",
       "59                                a.教えて           [a]  \n",
       "60                                 b.払え           [b]  \n",
       "61   b.入れないこと\\n\\n入り口にある「立入禁止」の看板を思い出します           [b]  \n",
       "62                          b.使うのがどうですか           [b]  \n",
       "63                           a.使ってもらいたい           [a]  \n",
       "64                                a.しては           [a]  \n",
       "65                                   b.           [b]  \n",
       "66                               a.ことから           [a]  \n",
       "67                  ゲームには必ず勝てないが絶対に負けない            []  \n",
       "68                              a.書きました           [a]  \n",
       "69                            a.暖房は必要ない           [a]  \n",
       "70    a.\\n\\n### 指示: \\n文法を基づいて、最もよい選択肢を一           [a]  \n",
       "71                          b. 探しているうちに           [b]  \n",
       "72                     そうですね。Aが最も一般的です。            []  \n",
       "73                                   a.           [a]  \n",
       "74                              b.くらいなら           [b]  \n",
       "75                                    b           [b]  \n",
       "76                                 b.反面           [b]  \n",
       "77  a. ところで\\n\\n### 指示: \\n文法を基づいて、最もよい選択           [a]  \n",
       "78      答え: a.新鮮だと\\n\\n文脈からわかるように、本文は\"��           [a]  \n",
       "79                                   c.           [c]  \n",
       "80  b.起きたついでに\\n\\n### 指示: \\n文法を基づいて、最もよい           [b]  \n",
       "81         A.b 「忘れやすい」を形容詞化した表現だが、「忘れっぽ           [b]  \n",
       "82     この店には高い品物ばかり並んでいる。a.ぐらい b.なんか c.     [a, b, c]  \n",
       "83                                    c           [c]  "
      ]
     },
     "metadata": {},
     "output_type": "display_data"
    }
   ],
   "source": [
    "pd.set_option('display.max_rows', None)\n",
    "display(N3)\n",
    "pd.set_option('display.max_rows', 10)"
   ]
  },
  {
   "cell_type": "code",
   "execution_count": null,
   "metadata": {},
   "outputs": [],
   "source": [
    "a = 'a'\n",
    "b = 'b'\n",
    "c = 'c'\n",
    "d = 'd'\n",
    "e = 'e'\n",
    "f = 'f'\n",
    "g = 'g'\n",
    "\n",
    "N3_correct_answers = [b,a,a,b,c,b,b,a,b,b,b,b,a,a,a,b,b,b,a,a,d,c,a,b,d,a,a,a,b,b,a,b,a,c,a,b,a,b,b,b,b,b,b,b,c,e,c,b,g,c,a,d,b,b,c,a,c,a,a,b,a,c,c,b,d,a,a,c,a,c,b,a,c,a,c,a,c,b,a,a,c,d,b]\n",
    "N2_correct_answers = []"
   ]
  },
  {
   "cell_type": "code",
   "execution_count": null,
   "metadata": {},
   "outputs": [],
   "source": [
    "# N3['correct_answer'] = N3_correct_answers\n",
    "N3.to_csv(\"./N3_answers.csv\", index=False)"
   ]
  }
 ],
 "metadata": {
  "kernelspec": {
   "display_name": "blip2",
   "language": "python",
   "name": "python3"
  },
  "language_info": {
   "codemirror_mode": {
    "name": "ipython",
    "version": 3
   },
   "file_extension": ".py",
   "mimetype": "text/x-python",
   "name": "python",
   "nbconvert_exporter": "python",
   "pygments_lexer": "ipython3",
   "version": "3.8.10"
  }
 },
 "nbformat": 4,
 "nbformat_minor": 2
}
