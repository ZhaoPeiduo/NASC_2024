{
 "cells": [
  {
   "cell_type": "code",
   "execution_count": 29,
   "metadata": {},
   "outputs": [],
   "source": [
    "import pandas as pd\n",
    "import pickle\n",
    "\n",
    "N2 = pd.read_csv('./GrammarDataset/N2_grammar_cleaned.csv')\n",
    "N3 = pd.read_csv('./GrammarDataset/N3_grammar_cleaned.csv')\n",
    "ALL_QUESTIONS = pd.concat((N2, N3)).reset_index().drop(columns=['index'])"
   ]
  },
  {
   "cell_type": "markdown",
   "metadata": {},
   "source": [
    "Background: These two files contain questions that are relatively more difficult, where one of us get all of them wrong while preparing for N3 and N2 respectively. "
   ]
  },
  {
   "cell_type": "code",
   "execution_count": 30,
   "metadata": {},
   "outputs": [],
   "source": [
    "with open('./predictions/elyza.pkl', 'rb') as f:\n",
    "    elyza_ans, elyza_t = pickle.load(f)"
   ]
  },
  {
   "cell_type": "markdown",
   "metadata": {},
   "source": [
    "### Elyza: Manual evaluation\n",
    "\n",
    "To maintain a fairer comparison within a reasonable runtime, the max_token was only set to 64 and some answers are omitted."
   ]
  },
  {
   "cell_type": "code",
   "execution_count": 3,
   "metadata": {},
   "outputs": [],
   "source": [
    "a = 'a'\n",
    "b = 'b'\n",
    "c = 'c'\n",
    "d = 'd'\n",
    "e = 'e'\n",
    "f = 'f'\n",
    "g = 'g'\n",
    "h = 'h'\n",
    "no_ans = '?'"
   ]
  },
  {
   "cell_type": "code",
   "execution_count": 15,
   "metadata": {},
   "outputs": [
    {
     "data": {
      "text/plain": [
       "[' 「今朝」は時制が不明瞭なので、正しい選択肢は「a.起きたとき」です。',\n",
       " ' 「最近」という部分を見ると、祖父が最近忘れていたことを表しています。そのため、最も適切な選択肢は「b',\n",
       " ' 「この店には高い品物が並んでいる。」という文章において、最も適切な選択肢は「c.しか」です。\\n\\n「〜しか」は',\n",
       " ' 文法を基づいて、最もよい選択肢のアルファベットを一つだけ選ぶと、\\n\\n- a: 「〜だ」は動詞の形であり、前後に']"
      ]
     },
     "execution_count": 15,
     "metadata": {},
     "output_type": "execute_result"
    }
   ],
   "source": [
    "i = 21\n",
    "elyza_ans[i * 10 : i * 10 + 10]"
   ]
  },
  {
   "cell_type": "code",
   "execution_count": 10,
   "metadata": {},
   "outputs": [],
   "source": [
    "# Based on  manual interpretation\n",
    "\n",
    "option_0_9 = [b, no_ans, b, b, a, a, b, c, no_ans, b]\n",
    "option_10_19 = [no_ans, no_ans, no_ans, a, no_ans, no_ans, no_ans, no_ans, a, no_ans]\n",
    "option_20_29 = [no_ans, c, c, c, c, a, no_ans, no_ans, a, a]\n",
    "option_30_39 = [c, a, a, no_ans, a, c, a, a, no_ans, b]\n",
    "option_40_49 = [d, no_ans, b, no_ans, b, a, b, no_ans, no_ans, no_ans]\n",
    "option_50_59 = [c, b, a, b, a, no_ans, no_ans, a, c, a]\n",
    "option_60_69 = [no_ans, b, c, no_ans, no_ans, no_ans, c, no_ans, no_ans, b]\n",
    "option_70_79 = [b, no_ans, b, no_ans, a, c, b, b, b, c]\n",
    "option_80_89 = [a, a, a, c, c, a, c, no_ans, c, no_ans]\n",
    "option_90_99 = [no_ans, b, no_ans, a, no_ans, no_ans, c, no_ans, b, b] \n",
    "option_100_109 = [c, no_ans, b, a, no_ans, no_ans, a, no_ans, no_ans, a]\n",
    "option_110_119 = [b, no_ans, no_ans, no_ans, c, no_ans, no_ans, b, a, a]\n",
    "option_120_129 = [a, no_ans, b, no_ans, c, a, a, c, a, no_ans]\n",
    "option_130_139 = [a, a, b, no_ans, a, b, b, b, b, no_ans]\n",
    "option_140_149 = [no_ans, no_ans, no_ans, b, no_ans, b, c, c, no_ans, c]\n",
    "option_150_159 = [no_ans, a, b, b, a, c, no_ans, a, b, a]\n",
    "option_160_169 = [a, b, b, a, no_ans, no_ans, b, a, b, no_ans]\n",
    "option_170_179 = [a, no_ans, a, a, a, a, b, no_ans, c, no_ans]\n",
    "option_180_189 = [no_ans, c, no_ans, a, b, c, a, b, c, b]\n",
    "option_190_199 = [b, c, c, no_ans, a, a, a, b, a, b]\n",
    "option_200_209 = [b, b, no_ans, no_ans, a, b, no_ans, b, b, b]\n",
    "option_210_214 = [a, b, c, no_ans]"
   ]
  },
  {
   "cell_type": "code",
   "execution_count": 17,
   "metadata": {},
   "outputs": [
    {
     "data": {
      "text/plain": [
       "214"
      ]
     },
     "execution_count": 17,
     "metadata": {},
     "output_type": "execute_result"
    }
   ],
   "source": [
    "elyza_ans_options = option_0_9 + option_10_19 + option_20_29 + option_30_39 + option_40_49 + option_50_59 + option_60_69 + option_70_79 + option_80_89 + option_90_99 + option_100_109 + option_110_119 + option_120_129 + option_130_139 + option_140_149 + option_150_159 + option_160_169 + option_170_179 + option_180_189 + option_190_199 + option_200_209 + option_210_214\n",
    "len(elyza_ans_options)"
   ]
  },
  {
   "cell_type": "code",
   "execution_count": 32,
   "metadata": {},
   "outputs": [],
   "source": [
    "ALL_QUESTIONS['Elyza'] = elyza_ans_options"
   ]
  },
  {
   "cell_type": "code",
   "execution_count": 37,
   "metadata": {},
   "outputs": [
    {
     "data": {
      "text/plain": [
       "47"
      ]
     },
     "execution_count": 37,
     "metadata": {},
     "output_type": "execute_result"
    }
   ],
   "source": [
    "elyza_correct = (ALL_QUESTIONS['Answer'] == ALL_QUESTIONS['Elyza']).sum()\n",
    "elyza_correct"
   ]
  },
  {
   "cell_type": "code",
   "execution_count": 38,
   "metadata": {},
   "outputs": [
    {
     "data": {
      "text/plain": [
       "72"
      ]
     },
     "execution_count": 38,
     "metadata": {},
     "output_type": "execute_result"
    }
   ],
   "source": [
    "elyza_unanswered = (ALL_QUESTIONS['Elyza'] == '?').sum()\n",
    "elyza_unanswered"
   ]
  },
  {
   "cell_type": "code",
   "execution_count": 39,
   "metadata": {},
   "outputs": [
    {
     "data": {
      "text/plain": [
       "(2855.0429825782776, 13.341322348496623)"
      ]
     },
     "execution_count": 39,
     "metadata": {},
     "output_type": "execute_result"
    }
   ],
   "source": [
    "elyza_t, elyza_t / 214"
   ]
  },
  {
   "cell_type": "markdown",
   "metadata": {},
   "source": [
    "The overall accuracy for answered questions is 33% (47 / (214 - 72))"
   ]
  },
  {
   "cell_type": "markdown",
   "metadata": {},
   "source": [
    "Evaluation Result"
   ]
  },
  {
   "cell_type": "markdown",
   "metadata": {},
   "source": [
    "| Model Name             | #Questions | #Correct | Total Inference Time | Average Inference Time | Max tokens | # No Answer |\n",
    "|------------------------|------------|----------|----------------------|------------------------|------------|-------------|\n",
    "| StableLM_Gamma_7b_Half | 214        |          |                      |                        | 32         |             |\n",
    "| ELYZA_Llama_7b_Half    | 214        | 47       |  2855s               | 13s                    | 64         | 72          |\n",
    "| GPT_NeoX_4b            | 214        |          |                      |                        | 32         |             |"
   ]
  }
 ],
 "metadata": {
  "kernelspec": {
   "display_name": "nasc2024",
   "language": "python",
   "name": "python3"
  },
  "language_info": {
   "codemirror_mode": {
    "name": "ipython",
    "version": 3
   },
   "file_extension": ".py",
   "mimetype": "text/x-python",
   "name": "python",
   "nbconvert_exporter": "python",
   "pygments_lexer": "ipython3",
   "version": "3.8.10"
  }
 },
 "nbformat": 4,
 "nbformat_minor": 2
}
