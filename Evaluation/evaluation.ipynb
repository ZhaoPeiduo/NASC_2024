{
 "cells": [
  {
   "cell_type": "code",
   "execution_count": 1,
   "metadata": {},
   "outputs": [
    {
     "ename": "SyntaxError",
     "evalue": "EOL while scanning string literal (model.py, line 107)",
     "output_type": "error",
     "traceback": [
      "Traceback \u001b[1;36m(most recent call last)\u001b[0m:\n",
      "\u001b[0m  File \u001b[0;32mc:\\Users\\Andrew\\envs\\nasc2024\\lib\\site-packages\\IPython\\core\\interactiveshell.py:3508\u001b[0m in \u001b[0;35mrun_code\u001b[0m\n    exec(code_obj, self.user_global_ns, self.user_ns)\u001b[0m\n",
      "\u001b[1;36m  Cell \u001b[1;32mIn[1], line 1\u001b[1;36m\n\u001b[1;33m    from model import StableLM_Gamma_7b\u001b[1;36m\n",
      "\u001b[1;36m  File \u001b[1;32mc:\\Users\\Andrew\\Desktop\\Projects\\NASC_2024\\Evaluation\\model.py:107\u001b[1;36m\u001b[0m\n\u001b[1;33m    text = f'文法を基づいて、最もよい選択肢のアルファベットを一つ選びなさい。問題：{question} 選択肢：{options}\"\u001b[0m\n\u001b[1;37m                                                                         ^\u001b[0m\n\u001b[1;31mSyntaxError\u001b[0m\u001b[1;31m:\u001b[0m EOL while scanning string literal\n"
     ]
    }
   ],
   "source": [
    "from model import StableLM_Gamma_7b_Half, ELYZA_Llama_7b_Half\n",
    "from tqdm import tqdm\n",
    "import pandas as pd"
   ]
  },
  {
   "cell_type": "code",
   "execution_count": null,
   "metadata": {},
   "outputs": [],
   "source": [
    "N2 = pd.read_csv('./GrammarDataset/N2_grammar_cleaned.csv')\n",
    "N3 = pd.read_csv('./GrammarDataset/N3_grammar_cleaned.csv')"
   ]
  },
  {
   "cell_type": "code",
   "execution_count": null,
   "metadata": {},
   "outputs": [
    {
     "data": {
      "text/html": [
       "<div>\n",
       "<style scoped>\n",
       "    .dataframe tbody tr th:only-of-type {\n",
       "        vertical-align: middle;\n",
       "    }\n",
       "\n",
       "    .dataframe tbody tr th {\n",
       "        vertical-align: top;\n",
       "    }\n",
       "\n",
       "    .dataframe thead th {\n",
       "        text-align: right;\n",
       "    }\n",
       "</style>\n",
       "<table border=\"1\" class=\"dataframe\">\n",
       "  <thead>\n",
       "    <tr style=\"text-align: right;\">\n",
       "      <th></th>\n",
       "      <th>Question</th>\n",
       "      <th>Options</th>\n",
       "      <th>Answer</th>\n",
       "    </tr>\n",
       "  </thead>\n",
       "  <tbody>\n",
       "    <tr>\n",
       "      <th>0</th>\n",
       "      <td>___とたん、眠くなった。</td>\n",
       "      <td>a.勉強が終わった b.勉強をした c.勉強をしていた</td>\n",
       "      <td>a</td>\n",
       "    </tr>\n",
       "    <tr>\n",
       "      <th>1</th>\n",
       "      <td>弟は、やっと見つけた就職先なのに、___のうちに、もう辞めてしまった。</td>\n",
       "      <td>a.仕事を覚えたか覚えないか b.働いているかいないか c.友達がいるかいないか</td>\n",
       "      <td>a</td>\n",
       "    </tr>\n",
       "    <tr>\n",
       "      <th>2</th>\n",
       "      <td>この料理、熱いうちに___。</td>\n",
       "      <td>a.おいしいですよ b.召し上がってください c.いい香りいがします</td>\n",
       "      <td>b</td>\n",
       "    </tr>\n",
       "    <tr>\n",
       "      <th>3</th>\n",
       "      <td>交通費は___一方だ。</td>\n",
       "      <td>a.値上がりする b.値上がりしている c.値上がりした</td>\n",
       "      <td>a</td>\n",
       "    </tr>\n",
       "    <tr>\n",
       "      <th>4</th>\n",
       "      <td>___としています。</td>\n",
       "      <td>a.間も無く夏が終わろう b.今日は雨が降ろう c.今年の冬は寒くなろう</td>\n",
       "      <td>a</td>\n",
       "    </tr>\n",
       "    <tr>\n",
       "      <th>...</th>\n",
       "      <td>...</td>\n",
       "      <td>...</td>\n",
       "      <td>...</td>\n",
       "    </tr>\n",
       "    <tr>\n",
       "      <th>209</th>\n",
       "      <td>先生の説明を聞いている___だんだんわかってきた。</td>\n",
       "      <td>a.うちに b.たびに c.ところを</td>\n",
       "      <td>a</td>\n",
       "    </tr>\n",
       "    <tr>\n",
       "      <th>210</th>\n",
       "      <td>今朝___喉が痛かった。</td>\n",
       "      <td>a.起きたとき b.起きたついでに c.起きてるうちに</td>\n",
       "      <td>a</td>\n",
       "    </tr>\n",
       "    <tr>\n",
       "      <th>211</th>\n",
       "      <td>祖父は年を取って、最近___なかった。今日もかぎの場所を忘れた。</td>\n",
       "      <td>a.忘れかけに b.忘れにくく c.忘れっぽく</td>\n",
       "      <td>c</td>\n",
       "    </tr>\n",
       "    <tr>\n",
       "      <th>212</th>\n",
       "      <td>この店には高い品物___並んでいる。</td>\n",
       "      <td>a.ぐらい b.なんか c.しか d.ばかり</td>\n",
       "      <td>d</td>\n",
       "    </tr>\n",
       "    <tr>\n",
       "      <th>213</th>\n",
       "      <td>机の上に本がたくさん重ねてあって、今にも___。</td>\n",
       "      <td>a.崩れているようだ b.崩そうだ c.崩れてしまった d.崩れたら大変だ</td>\n",
       "      <td>b</td>\n",
       "    </tr>\n",
       "  </tbody>\n",
       "</table>\n",
       "<p>214 rows × 3 columns</p>\n",
       "</div>"
      ],
      "text/plain": [
       "                                Question  \\\n",
       "0                          ___とたん、眠くなった。   \n",
       "1    弟は、やっと見つけた就職先なのに、___のうちに、もう辞めてしまった。   \n",
       "2                         この料理、熱いうちに___。   \n",
       "3                            交通費は___一方だ。   \n",
       "4                             ___としています。   \n",
       "..                                   ...   \n",
       "209            先生の説明を聞いている___だんだんわかってきた。   \n",
       "210                         今朝___喉が痛かった。   \n",
       "211     祖父は年を取って、最近___なかった。今日もかぎの場所を忘れた。   \n",
       "212                   この店には高い品物___並んでいる。   \n",
       "213             机の上に本がたくさん重ねてあって、今にも___。   \n",
       "\n",
       "                                      Options  Answer  \n",
       "0                 a.勉強が終わった b.勉強をした c.勉強をしていた       a  \n",
       "1    a.仕事を覚えたか覚えないか b.働いているかいないか c.友達がいるかいないか       a  \n",
       "2          a.おいしいですよ b.召し上がってください c.いい香りいがします       b  \n",
       "3                a.値上がりする b.値上がりしている c.値上がりした       a  \n",
       "4        a.間も無く夏が終わろう b.今日は雨が降ろう c.今年の冬は寒くなろう       a  \n",
       "..                                        ...     ...  \n",
       "209                        a.うちに b.たびに c.ところを       a  \n",
       "210               a.起きたとき b.起きたついでに c.起きてるうちに       a  \n",
       "211                   a.忘れかけに b.忘れにくく c.忘れっぽく       c  \n",
       "212                    a.ぐらい b.なんか c.しか d.ばかり       d  \n",
       "213     a.崩れているようだ b.崩そうだ c.崩れてしまった d.崩れたら大変だ       b  \n",
       "\n",
       "[214 rows x 3 columns]"
      ]
     },
     "execution_count": 3,
     "metadata": {},
     "output_type": "execute_result"
    }
   ],
   "source": [
    "ALL_QUESTIONS = pd.concat((N2, N3)).reset_index().drop(columns=['index'])\n",
    "ALL_QUESTIONS"
   ]
  },
  {
   "cell_type": "markdown",
   "metadata": {},
   "source": [
    "### StableLM_Gamma_7b Evaluation\n",
    "\n",
    "Specification: No sampling, output most probable next token\n",
    "\n",
    "The assessment is to check if the LLM picks the correct answer. Explanation is manually investigated to check if it is rational."
   ]
  },
  {
   "cell_type": "code",
   "execution_count": null,
   "metadata": {},
   "outputs": [
    {
     "name": "stderr",
     "output_type": "stream",
     "text": [
      "Loading checkpoint shards: 100%|██████████| 3/3 [00:04<00:00,  1.62s/it]\n"
     ]
    }
   ],
   "source": [
    "stableLM_Gamma_7b = StableLM_Gamma_7b_Half()"
   ]
  },
  {
   "cell_type": "code",
   "execution_count": null,
   "metadata": {},
   "outputs": [
    {
     "name": "stderr",
     "output_type": "stream",
     "text": [
      "112it [08:35,  4.88s/it]"
     ]
    }
   ],
   "source": [
    "stableLM_Gamma_7b_ans = []\n",
    "for index, row in tqdm(ALL_QUESTIONS.iterrows()):\n",
    "    stableLM_Gamma_7b_ans.append(stableLM_Gamma_7b.generate_answer(row.Question, row.Options.split(' ')))"
   ]
  }
 ],
 "metadata": {
  "kernelspec": {
   "display_name": "blip2",
   "language": "python",
   "name": "python3"
  },
  "language_info": {
   "codemirror_mode": {
    "name": "ipython",
    "version": 3
   },
   "file_extension": ".py",
   "mimetype": "text/x-python",
   "name": "python",
   "nbconvert_exporter": "python",
   "pygments_lexer": "ipython3",
   "version": "3.8.10"
  }
 },
 "nbformat": 4,
 "nbformat_minor": 2
}
