{
 "cells": [
  {
   "cell_type": "code",
   "execution_count": 42,
   "metadata": {},
   "outputs": [],
   "source": [
    "import re\n",
    "import pandas as pd\n",
    "\n",
    "def generate_formatted_questions(file_path):\n",
    "    with open(file_path, encoding='utf-8') as f:\n",
    "        entries = f.read()\n",
    "    entries = entries.split('\\n')\n",
    "    \n",
    "    df_rows = []\n",
    "    for text in entries:\n",
    "        pattern = r'[(（](.*?)[)）]'\n",
    "        options = \" \".join([f\"{chr(i + 97)}.{x}\"for i, x in enumerate(re.findall(pattern, text)[0].split(\"・\"))])\n",
    "        question = re.sub(pattern, lambda x: '_' * 3, text)\n",
    "        df_rows.append([question, options])\n",
    "    \n",
    "    df = pd.DataFrame(df_rows, columns=['Question', 'Options'])\n",
    "    return df\n",
    "        "
   ]
  },
  {
   "cell_type": "code",
   "execution_count": 40,
   "metadata": {},
   "outputs": [],
   "source": [
    "df = generate_formatted_questions('./N2_grammar.txt')\n",
    "df.to_csv('N2_grammar_cleaned.csv', index=False)"
   ]
  },
  {
   "cell_type": "code",
   "execution_count": 41,
   "metadata": {},
   "outputs": [],
   "source": [
    "df = generate_formatted_questions('./N3_grammar.txt')\n",
    "df.to_csv('N3_grammar_cleaned.csv', index=False)"
   ]
  }
 ],
 "metadata": {
  "kernelspec": {
   "display_name": "nasc2024",
   "language": "python",
   "name": "python3"
  },
  "language_info": {
   "codemirror_mode": {
    "name": "ipython",
    "version": 3
   },
   "file_extension": ".py",
   "mimetype": "text/x-python",
   "name": "python",
   "nbconvert_exporter": "python",
   "pygments_lexer": "ipython3",
   "version": "3.8.10"
  }
 },
 "nbformat": 4,
 "nbformat_minor": 2
}
